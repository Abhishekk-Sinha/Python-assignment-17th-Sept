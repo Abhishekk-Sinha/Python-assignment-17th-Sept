{
  "nbformat": 4,
  "nbformat_minor": 0,
  "metadata": {
    "colab": {
      "provenance": []
    },
    "kernelspec": {
      "name": "python3",
      "display_name": "Python 3"
    },
    "language_info": {
      "name": "python"
    }
  },
  "cells": [
    {
      "cell_type": "markdown",
      "source": [
        "Write a Python program to print numbers from 1 to 10 using a for loop.\n"
      ],
      "metadata": {
        "id": "xi-zN-8qStee"
      }
    },
    {
      "cell_type": "code",
      "execution_count": null,
      "metadata": {
        "colab": {
          "base_uri": "https://localhost:8080/"
        },
        "id": "y3sZ5ePSSoCA",
        "outputId": "bd608541-9846-461e-e35d-f2f3f2c307e0"
      },
      "outputs": [
        {
          "output_type": "stream",
          "name": "stdout",
          "text": [
            "1\n",
            "2\n",
            "3\n",
            "4\n",
            "5\n",
            "6\n",
            "7\n",
            "8\n",
            "9\n",
            "10\n"
          ]
        }
      ],
      "source": [
        "for i in range(1, 11):\n",
        "  print(i)"
      ]
    },
    {
      "cell_type": "markdown",
      "source": [
        "Explain the difference between a for loop and a while loop in Python.\n"
      ],
      "metadata": {
        "id": "BXHF3B73S5rQ"
      }
    },
    {
      "cell_type": "markdown",
      "source": [
        "# For Loop:\n",
        "\n",
        "- A for loop is used when you know the number of iterations in advance or when you want to iterate over a sequence (like a list, tuple, string, etc.).\n",
        "- In each iteration, the variable takes the value of the next item in the sequence until the sequence is exhausted.\n",
        "- Example: numbers = [1, 2, 3, 4, 5]\n",
        "- for num in numbers:\n",
        "  -  print(num)\n",
        "\n",
        "# While loop\n",
        "- A while loop is used when you want to repeat a block of code as long as a condition is true.\n",
        "- The loop continues executing as long as the condition evaluates to True. If the condition becomes False, the loop stops.\n",
        "- Example :\n",
        "- count = 0\n",
        "- while count < 5:\n",
        " -   print(count)\n",
        "   - count += 1\n"
      ],
      "metadata": {
        "id": "MK61MBuCT38_"
      }
    },
    {
      "cell_type": "markdown",
      "source": [
        "Write a Python program to calculate the sum of all numbers from 1 to 100 using a for loop.\n",
        "\n"
      ],
      "metadata": {
        "id": "OVuCK4pqS8pc"
      }
    },
    {
      "cell_type": "code",
      "source": [
        "total_sum = 0\n",
        "\n",
        "for num in range(1, 101):\n",
        "  total_sum += num\n",
        "\n",
        "print(\"The sum of all numbers from 1 to 100 is: \", total_sum)"
      ],
      "metadata": {
        "colab": {
          "base_uri": "https://localhost:8080/"
        },
        "id": "Z9O6zXwKS-SX",
        "outputId": "fdc82cfc-ac3e-44a9-ea49-8b0ac284fb51"
      },
      "execution_count": null,
      "outputs": [
        {
          "output_type": "stream",
          "name": "stdout",
          "text": [
            "The sum of all numbers from 1 to 100 is:  5050\n"
          ]
        }
      ]
    },
    {
      "cell_type": "markdown",
      "source": [
        "How do you iterate through a list using a for loop in Python?\n"
      ],
      "metadata": {
        "id": "FZGvCUqAS-dD"
      }
    },
    {
      "cell_type": "markdown",
      "source": [
        "- my_list = [1, 2, 3, 4, 5]\n",
        "\n",
        "- for item in my_list:\n",
        "   -  print(item)\n",
        "\n",
        "- in this  example, my_list is a list containing integers. The for loop iterates over each item in the list. In each iteration, the variable item takes on the value of the current item in the list. You can then perform any operations you want with item inside the loop."
      ],
      "metadata": {
        "id": "ekSu_FsFVper"
      }
    },
    {
      "cell_type": "code",
      "source": [],
      "metadata": {
        "id": "NnDfV14QS_1X"
      },
      "execution_count": null,
      "outputs": []
    },
    {
      "cell_type": "markdown",
      "source": [
        "Write a Python program to find the product of all elements in a list using a for loop.\n"
      ],
      "metadata": {
        "id": "mnLkJq_kTAAA"
      }
    },
    {
      "cell_type": "code",
      "source": [
        "my_list = [2, 3, 4, 5]\n",
        "product = 1 # Initialize the variable\n",
        "\n",
        "for num in my_list:\n",
        "  product *= num\n",
        "\n",
        "print(\"The product of all element in the list is: \", product)"
      ],
      "metadata": {
        "colab": {
          "base_uri": "https://localhost:8080/"
        },
        "id": "CVX-bXhbTBXU",
        "outputId": "133bc454-2b00-42b4-ed96-74e6fa10bcdb"
      },
      "execution_count": null,
      "outputs": [
        {
          "output_type": "stream",
          "name": "stdout",
          "text": [
            "The product of all element in the list is:  120\n"
          ]
        }
      ]
    },
    {
      "cell_type": "markdown",
      "source": [
        "Create a Python program that prints all even numbers from 1 to 20 using a for loop.\n"
      ],
      "metadata": {
        "id": "_0fhKRWLTBjS"
      }
    },
    {
      "cell_type": "code",
      "source": [
        "for num in range(1, 21):\n",
        "  if num % 2 == 0:\n",
        "    print(num)"
      ],
      "metadata": {
        "colab": {
          "base_uri": "https://localhost:8080/"
        },
        "id": "hTCzdvUyTDAQ",
        "outputId": "1fd30b67-6689-4fe5-9ae5-4ded7054b911"
      },
      "execution_count": null,
      "outputs": [
        {
          "output_type": "stream",
          "name": "stdout",
          "text": [
            "2\n",
            "4\n",
            "6\n",
            "8\n",
            "10\n",
            "12\n",
            "14\n",
            "16\n",
            "18\n",
            "20\n"
          ]
        }
      ]
    },
    {
      "cell_type": "markdown",
      "source": [
        "Write a Python program that calculates the factorial of a number using a for loop.\n"
      ],
      "metadata": {
        "id": "OOHHa4MfTDMA"
      }
    },
    {
      "cell_type": "code",
      "source": [
        "def fibonacci(n):\n",
        "  fib_sequence = [0, 1]  # Initialize the Fibonacci sequence with the first two numbers\n",
        "  for i in range(2, n):\n",
        "    next_fib = fib_sequence[-1] + fib_sequence[-2] # Calculate the next Fibonacci number\n",
        "    fib_sequence.append(next_fib) # Add the next Fibonacci number to the sequence\n",
        "  return fib_sequence\n",
        "\n",
        "#Driver Code\n",
        "n = 10\n",
        "fib_numbers = fibonacci(n)\n",
        "print(\"First\", n, \"Fibnacci numbers: \", fib_numbers)\n"
      ],
      "metadata": {
        "colab": {
          "base_uri": "https://localhost:8080/"
        },
        "id": "3Oxkpaw8TEki",
        "outputId": "e172704a-2fac-4681-c3d5-a4a2f5f0501a"
      },
      "execution_count": null,
      "outputs": [
        {
          "output_type": "stream",
          "name": "stdout",
          "text": [
            "First 10 Fibnacci numbers:  [0, 1, 1, 2, 3, 5, 8, 13, 21, 34]\n"
          ]
        }
      ]
    },
    {
      "cell_type": "markdown",
      "source": [
        "How can you iterate through the characters of a string using a for loop in Python?\n"
      ],
      "metadata": {
        "id": "LdCZq-fRTE0l"
      }
    },
    {
      "cell_type": "code",
      "source": [
        "my_string = \"Hello, World!\"\n",
        "\n",
        "for char in my_string:\n",
        "    print(char)\n"
      ],
      "metadata": {
        "colab": {
          "base_uri": "https://localhost:8080/"
        },
        "id": "9MqdBbibTGMe",
        "outputId": "76e0b2d1-b81d-481b-fb99-dddcf9d3c13b"
      },
      "execution_count": null,
      "outputs": [
        {
          "output_type": "stream",
          "name": "stdout",
          "text": [
            "H\n",
            "e\n",
            "l\n",
            "l\n",
            "o\n",
            ",\n",
            " \n",
            "W\n",
            "o\n",
            "r\n",
            "l\n",
            "d\n",
            "!\n"
          ]
        }
      ]
    },
    {
      "cell_type": "markdown",
      "source": [
        "Write a Python program to find the largest number in a list using a for loop.\n"
      ],
      "metadata": {
        "id": "7uYcCaXkTGbi"
      }
    },
    {
      "cell_type": "code",
      "source": [
        "my_list = [10, 5, 20, 15, 30]\n",
        "\n",
        "## Initialize the variable to hold the largest number\n",
        "max_number = my_list[0]\n",
        "\n",
        "# Iterate through the list using a for loop\n",
        "for num in my_list:\n",
        "    if num > max_number:\n",
        "        max_number = num\n",
        "print(\"The largest number in the list is:\", max_number)"
      ],
      "metadata": {
        "colab": {
          "base_uri": "https://localhost:8080/"
        },
        "id": "zXuf6-nkTKSh",
        "outputId": "3ae7470c-6cb8-463e-a38a-89c58835f517"
      },
      "execution_count": null,
      "outputs": [
        {
          "output_type": "stream",
          "name": "stdout",
          "text": [
            "The largest number in the list is: 30\n"
          ]
        }
      ]
    },
    {
      "cell_type": "markdown",
      "source": [
        "Create a Python program that prints the Fibonacci sequence up to a specified limit using a for loop.\n"
      ],
      "metadata": {
        "id": "h0g8qbqxTKhJ"
      }
    },
    {
      "cell_type": "code",
      "source": [
        "def fibonacci(limit):\n",
        "    # Initialize the first two numbers of the sequence\n",
        "    fib_sequence = [0, 1]\n",
        "\n",
        "    # Iterate through the sequence using a for loop\n",
        "    for i in range(2, limit):\n",
        "        # Calculate the next number in the sequence by adding the previous two numbers\n",
        "        next_number = fib_sequence[-1] + fib_sequence[-2]\n",
        "\n",
        "        # Check if the next number exceeds the limit\n",
        "        if next_number > limit:\n",
        "            break\n",
        "\n",
        "        # Append the next number to the sequence\n",
        "        fib_sequence.append(next_number)\n",
        "\n",
        "    # Print the Fibonacci sequence\n",
        "    print(\"Fibonacci sequence up to {}:\".format(limit))\n",
        "    for num in fib_sequence:\n",
        "        print(num, end=\" \")\n",
        "\n",
        "# Specify the limit for the Fibonacci sequence\n",
        "limit = int(input(\"Enter the limit for the Fibonacci sequence: \"))\n",
        "\n",
        "# Call the function to print the Fibonacci sequence\n",
        "fibonacci(limit)\n"
      ],
      "metadata": {
        "colab": {
          "base_uri": "https://localhost:8080/"
        },
        "id": "Othq25M0TMPK",
        "outputId": "ce5df42a-5ae5-4f4a-8021-4de6ca7320c8"
      },
      "execution_count": null,
      "outputs": [
        {
          "output_type": "stream",
          "name": "stdout",
          "text": [
            "Enter the limit for the Fibonacci sequence: 100\n",
            "Fibonacci sequence up to 100:\n",
            "0 1 1 2 3 5 8 13 21 34 55 89 "
          ]
        }
      ]
    },
    {
      "cell_type": "markdown",
      "source": [
        "Write a Python program to count the number of vowels in a given string using a for loop.\n"
      ],
      "metadata": {
        "id": "XKXiihbJTMeZ"
      }
    },
    {
      "cell_type": "code",
      "source": [
        "def count_vowels(string):\n",
        "  vowels = \"aeiouAEIOU\"\n",
        "  vowels_count = 0\n",
        "  for char in string:\n",
        "    if char in vowels:\n",
        "      vowels_count += 1\n",
        "  return vowels_count\n",
        "\n",
        "#Driver code\n",
        "input_string = \"Hello, World\"\n",
        "print(\"Number of vowels in the string:\", count_vowels(input_string))\n",
        "\n"
      ],
      "metadata": {
        "colab": {
          "base_uri": "https://localhost:8080/"
        },
        "id": "rRz8B5UFTNwi",
        "outputId": "716b230a-423c-4f33-ccdf-cc8a037fcdc6"
      },
      "execution_count": null,
      "outputs": [
        {
          "output_type": "stream",
          "name": "stdout",
          "text": [
            "Number of vowels in the string: 3\n"
          ]
        }
      ]
    },
    {
      "cell_type": "markdown",
      "source": [
        "Create a Python program that generates a multiplication table for a given number using a for loop.\n"
      ],
      "metadata": {
        "id": "PYwr3-hvTN7Q"
      }
    },
    {
      "cell_type": "code",
      "source": [
        "def multiplication_table(num):\n",
        "\n",
        "  #iterate the loop\n",
        "  for i in range(1, 11):\n",
        "    print(num, \"x\", i, \"=\", num * i)\n",
        "\n",
        "#Driver code\n",
        "num = 3\n",
        "multiplication_table(num)"
      ],
      "metadata": {
        "colab": {
          "base_uri": "https://localhost:8080/"
        },
        "id": "kQMQU_9JTPeR",
        "outputId": "17e6e16e-4e56-4106-9c3c-0e42bd8b3da3"
      },
      "execution_count": null,
      "outputs": [
        {
          "output_type": "stream",
          "name": "stdout",
          "text": [
            "3 x 1 = 3\n",
            "3 x 2 = 6\n",
            "3 x 3 = 9\n",
            "3 x 4 = 12\n",
            "3 x 5 = 15\n",
            "3 x 6 = 18\n",
            "3 x 7 = 21\n",
            "3 x 8 = 24\n",
            "3 x 9 = 27\n",
            "3 x 10 = 30\n"
          ]
        }
      ]
    },
    {
      "cell_type": "markdown",
      "source": [
        "Write a Python program to reverse a list using a for loop.\n"
      ],
      "metadata": {
        "id": "JGT8418FTPrX"
      }
    },
    {
      "cell_type": "code",
      "source": [
        "def reversed_list(input_list):\n",
        "  reversed_list = []\n",
        "\n",
        "  for i in range(len(input_list) -1, -1, -1):\n",
        "    reversed_list.append(input_list[i])\n",
        "\n",
        "  return reversed_list\n",
        "\n",
        "my_list = [1,2,3,4,5]\n",
        "reversed_list = reversed_list(my_list)\n",
        "print(\"Original list:\", my_list)\n",
        "print(\"Reversed list:\", reversed_list)"
      ],
      "metadata": {
        "colab": {
          "base_uri": "https://localhost:8080/"
        },
        "id": "pukMGWG0TRQh",
        "outputId": "6c9e6847-dea6-4bf7-c1b8-83520989fd13"
      },
      "execution_count": null,
      "outputs": [
        {
          "output_type": "stream",
          "name": "stdout",
          "text": [
            "Original list: [1, 2, 3, 4, 5]\n",
            "Reversed list: [5, 4, 3, 2, 1]\n"
          ]
        }
      ]
    },
    {
      "cell_type": "markdown",
      "source": [
        "Write a Python program to find the common elements between two lists using a for loop.\n"
      ],
      "metadata": {
        "id": "Dk-dunOWTRfr"
      }
    },
    {
      "cell_type": "code",
      "source": [
        "def find_common_elements(list1, list2):\n",
        "    common_elements = []\n",
        "\n",
        "    for item in list1:\n",
        "      if item in list2:\n",
        "        common_elements.append(item)\n",
        "    return common_elements\n",
        "\n",
        "list1 = [1,2,3,4,5]\n",
        "list2 = [42,3,54,6,2]\n",
        "common_elements = find_common_elements(list1, list2)\n",
        "print(common_elements)\n"
      ],
      "metadata": {
        "colab": {
          "base_uri": "https://localhost:8080/"
        },
        "id": "m8MITKq0TS3L",
        "outputId": "ffa5f827-5285-42c4-ee76-68061f304733"
      },
      "execution_count": null,
      "outputs": [
        {
          "output_type": "stream",
          "name": "stdout",
          "text": [
            "[2, 3]\n"
          ]
        }
      ]
    },
    {
      "cell_type": "markdown",
      "source": [
        "Explain how to use a for loop to iterate through the keys and values of a dictionary in Python.\n"
      ],
      "metadata": {
        "id": "2JIRbX6yTTBH"
      }
    },
    {
      "cell_type": "code",
      "source": [
        "my_dict = {'a': 1, 'b': 2, 'c': 3}\n",
        "\n",
        "# Iterate through the keys and values of the dictionary using a for loop\n",
        "for key, value in my_dict.items():\n",
        "    print(\"Key:\", key, \"| Value:\", value)"
      ],
      "metadata": {
        "colab": {
          "base_uri": "https://localhost:8080/"
        },
        "id": "-vKDzVTyTUam",
        "outputId": "2d805497-3638-4e20-bc45-5b33be73edad"
      },
      "execution_count": null,
      "outputs": [
        {
          "output_type": "stream",
          "name": "stdout",
          "text": [
            "Key: a | Value: 1\n",
            "Key: b | Value: 2\n",
            "Key: c | Value: 3\n"
          ]
        }
      ]
    },
    {
      "cell_type": "markdown",
      "source": [
        "Write a Python program to find the GCD (Greatest Common Divisor) of two numbers using a for loop.\n"
      ],
      "metadata": {
        "id": "ANZH42OjTUq-"
      }
    },
    {
      "cell_type": "code",
      "source": [
        "def find_gcd(num1, num2):\n",
        "  gcd= 1\n",
        "\n",
        "   # Find the minimum of the two numbers\n",
        "  min_num = min(num1, num2)\n",
        "\n",
        "   # Iterate through each number from 1 to the minimum number\n",
        "  for i in range(1, min_num + 1):\n",
        "    if num1 % i == 0 and num2 % i == 0:\n",
        "      gcd = i\n",
        "  return gcd\n",
        "\n",
        "num1 = int(input(\"Enter the first number: \"))\n",
        "num2 = int(input(\"Enter the second number: \"))\n",
        "gcd = find_gcd(num1, num2)\n",
        "print(\"The Greatest Common Divisor (GCD) of\", num1, \"and\", num2, \"is:\", gcd)\n",
        "\n"
      ],
      "metadata": {
        "colab": {
          "base_uri": "https://localhost:8080/"
        },
        "id": "J2NViE3gTWXr",
        "outputId": "18a29ac9-4161-4b8a-9114-3b4fd3776909"
      },
      "execution_count": null,
      "outputs": [
        {
          "output_type": "stream",
          "name": "stdout",
          "text": [
            "Enter the first number: 33\n",
            "Enter the second number: 2\n",
            "The Greatest Common Divisor (GCD) of 33 and 2 is: 1\n"
          ]
        }
      ]
    },
    {
      "cell_type": "markdown",
      "source": [
        "Create a Python program that checks if a string is a palindrome using a for loop.\n"
      ],
      "metadata": {
        "id": "f0cNQyycTWjU"
      }
    },
    {
      "cell_type": "code",
      "source": [
        "def is_palindrome(s):\n",
        "  # Convert the string to lowercase and remove spaces\n",
        "  s = s.lower().replace(\" \", \"\")\n",
        "\n",
        "   # Initialize two pointers\n",
        "  left = 0\n",
        "  right = len(s) - 1\n",
        "\n",
        "    # Iterate through the string using a for loop\n",
        "  for i in range(len(s) // 2):\n",
        "\n",
        "    # Check if the characters at the current positions are equal\n",
        "    if s[left] != s[right]:\n",
        "\n",
        "       # If they're not equal, the string is not a palindrome\n",
        "      return False\n",
        "\n",
        "       # Move the pointers towards the center\n",
        "      left += 1\n",
        "      right -= 1\n",
        "  return True\n",
        "\n",
        "# Input a string\n",
        "string = input(\"Enter a string: \")\n",
        "\n",
        "# Check if the string is a palindrome\n",
        "if is_palindrome(string):\n",
        "    print(\"The string is a palindrome.\")\n",
        "else:\n",
        "    print(\"The string is not a palindrome.\")\n"
      ],
      "metadata": {
        "colab": {
          "base_uri": "https://localhost:8080/"
        },
        "id": "Amkzu_ebTYDa",
        "outputId": "bae808c4-3ad1-477f-93a1-13246d624a59"
      },
      "execution_count": null,
      "outputs": [
        {
          "output_type": "stream",
          "name": "stdout",
          "text": [
            "Enter a string: pop\n",
            "The string is a palindrome.\n"
          ]
        }
      ]
    },
    {
      "cell_type": "markdown",
      "source": [
        "Write a Python program to remove duplicates from a list using a for loop.\n",
        "\n"
      ],
      "metadata": {
        "id": "T3MfHkOUTYSu"
      }
    },
    {
      "cell_type": "code",
      "source": [
        "def remove_duplicates(input_list):\n",
        "  unique_list = []\n",
        "\n",
        "  for item in input_list:\n",
        "    if item not in unique_list:\n",
        "      unique_list.append(item)\n",
        "  return  unique_list\n",
        "\n",
        "my_list = [1, 2, 2, 3, 4, 4, 5]\n",
        "unique_list = remove_duplicates(my_list)\n",
        "print(\"Original list with duplicates:\", my_list)\n",
        "print(\"List after removing duplicates:\", unique_list)\n"
      ],
      "metadata": {
        "colab": {
          "base_uri": "https://localhost:8080/"
        },
        "id": "Yem3zlhVjdw4",
        "outputId": "db0efac2-16ad-4a24-9cb4-351333e0240a"
      },
      "execution_count": null,
      "outputs": [
        {
          "output_type": "stream",
          "name": "stdout",
          "text": [
            "Original list with duplicates: [1, 2, 2, 3, 4, 4, 5]\n",
            "List after removing duplicates: [1, 2, 3, 4, 5]\n"
          ]
        }
      ]
    },
    {
      "cell_type": "markdown",
      "source": [
        "Create a Python program that counts the number of words in a sentence using a for loop."
      ],
      "metadata": {
        "id": "hX9ySFQCjeXn"
      }
    },
    {
      "cell_type": "code",
      "source": [
        "def count_words(sentence):\n",
        "    # Initialize a variable to store the count of words\n",
        "    word_count = 0\n",
        "\n",
        "    # Iterate through each character in the sentence using a for loop\n",
        "    for char in sentence:\n",
        "        # Check if the current character is a space\n",
        "        if char == ' ':\n",
        "            # If it is, increment the word count\n",
        "            word_count += 1\n",
        "\n",
        "    # Add 1 to the word count to account for the last word\n",
        "    word_count += 1\n",
        "\n",
        "    # Return the word count\n",
        "    return word_count\n",
        "\n",
        "# Input a sentence\n",
        "sentence = input(\"Enter a sentence: \")\n",
        "\n",
        "# Call the function to count the number of words\n",
        "num_words = count_words(sentence)\n",
        "\n",
        "# Print the number of words\n",
        "print(\"Number of words in the sentence:\", num_words)\n"
      ],
      "metadata": {
        "colab": {
          "base_uri": "https://localhost:8080/"
        },
        "id": "lAcUFhFnTZ7r",
        "outputId": "459c4767-f894-45f6-fa09-531486c1f05e"
      },
      "execution_count": null,
      "outputs": [
        {
          "output_type": "stream",
          "name": "stdout",
          "text": [
            "Enter a sentence: happy birthday\n",
            "Number of words in the sentence: 2\n"
          ]
        }
      ]
    },
    {
      "cell_type": "markdown",
      "source": [
        "Write a Python program to find the sum of all odd numbers from 1 to 50 using a for loop.\n"
      ],
      "metadata": {
        "id": "Sx4cnm2aTadz"
      }
    },
    {
      "cell_type": "code",
      "source": [
        "# Initialize the variable to hold the sum\n",
        "sum_odd = 0\n",
        "\n",
        "# Iterate through numbers from 1 to 50 using a for loop\n",
        "for num in range(1, 51):\n",
        "    # Check if the number is odd\n",
        "    if num % 2 != 0:\n",
        "        # If it's odd, add it to the sum\n",
        "        sum_odd += num\n",
        "\n",
        "# Print the sum of all odd numbers\n",
        "print(\"The sum of all odd numbers from 1 to 50 is:\", sum_odd)\n"
      ],
      "metadata": {
        "colab": {
          "base_uri": "https://localhost:8080/"
        },
        "id": "nYAxgbXsTbxl",
        "outputId": "070cf289-7221-4b16-e0de-9ba50367b4da"
      },
      "execution_count": null,
      "outputs": [
        {
          "output_type": "stream",
          "name": "stdout",
          "text": [
            "The sum of all odd numbers from 1 to 50 is: 625\n"
          ]
        }
      ]
    },
    {
      "cell_type": "markdown",
      "source": [
        "Write a Python program that checks if a given year is a leap year using a for loop.\n"
      ],
      "metadata": {
        "id": "CfhNuSksTb6M"
      }
    },
    {
      "cell_type": "code",
      "source": [
        "def is_leap_year(year):\n",
        "    # Check if the given year is divisible by 4 but not by 100 or if it's divisible by 400\n",
        "    if (year % 4 == 0 and year % 100 != 0) or (year % 400 == 0):\n",
        "        return True\n",
        "    else:\n",
        "        return False\n",
        "\n",
        "# Input a year\n",
        "year = int(input(\"Enter a year: \"))\n",
        "\n",
        "# Check if the year is a leap year\n",
        "if is_leap_year(year):\n",
        "    print(year, \"is a leap year.\")\n",
        "else:\n",
        "    print(year, \"is not a leap year.\")\n"
      ],
      "metadata": {
        "colab": {
          "base_uri": "https://localhost:8080/"
        },
        "id": "zqsqKm-UTdTr",
        "outputId": "d965ea7a-cdb4-48f2-c7f9-da4343458084"
      },
      "execution_count": null,
      "outputs": [
        {
          "output_type": "stream",
          "name": "stdout",
          "text": [
            "Enter a year: 2024\n",
            "2024 is a leap year.\n"
          ]
        }
      ]
    },
    {
      "cell_type": "markdown",
      "source": [
        "Create a Python program that calculates the square root of a number using a for loop.\n"
      ],
      "metadata": {
        "id": "fMnlcFhITde4"
      }
    },
    {
      "cell_type": "code",
      "source": [
        "def square_root(number):\n",
        "  if number < 0:\n",
        "    return \"Square root of negative numbers is undefined\"\n",
        "\n",
        "  for guess in range(int(number) + 1):\n",
        "    if guess * guess == number:\n",
        "      return guess\n",
        "  # If the loop completes without finding an exact square root, return an approximate value\n",
        "  return \"Approximate square root:\", guess\n",
        "\n",
        "number = float(input(\"Enter the number: \"))\n",
        "square_root = square_root(number)\n",
        "print(square_root)"
      ],
      "metadata": {
        "colab": {
          "base_uri": "https://localhost:8080/"
        },
        "id": "r-qSo_4ATfC9",
        "outputId": "ca6ced3b-a793-4d84-805c-4ee1dc6f49ba"
      },
      "execution_count": null,
      "outputs": [
        {
          "output_type": "stream",
          "name": "stdout",
          "text": [
            "Enter the number: 100\n",
            "10\n"
          ]
        }
      ]
    },
    {
      "cell_type": "markdown",
      "source": [
        "Write a Python program to find the LCM (Least Common Multiple) of two numbers using a for loop."
      ],
      "metadata": {
        "id": "T937TlZkTfZV"
      }
    },
    {
      "cell_type": "code",
      "source": [
        "def find_lcm(num1, num2):\n",
        "    # Find the maximum of the two numbers\n",
        "    max_num = max(num1, num2)\n",
        "\n",
        "    # Iterate through multiples of the maximum number using a for loop\n",
        "    for lcm in range(max_num, num1 * num2 + 1, max_num):\n",
        "        # Check if the current multiple is divisible by both numbers\n",
        "        if lcm % num1 == 0 and lcm % num2 == 0:\n",
        "            # If it is, it's the LCM, so return it\n",
        "            return lcm\n",
        "\n",
        "num1 = int(input(\"Enter the first number: \"))\n",
        "num2 = int(input(\"Enter the second number: \"))\n",
        "lcm = find_lcm(num1, num2)\n",
        "print(\"The Least Common Multiple (LCM) of\", num1, \"and\", num2, \"is:\", lcm)\n"
      ],
      "metadata": {
        "colab": {
          "base_uri": "https://localhost:8080/"
        },
        "id": "dJz77pmdTgZv",
        "outputId": "0d6fcf29-01d3-49bf-9b9e-55614cbb3735"
      },
      "execution_count": null,
      "outputs": [
        {
          "output_type": "stream",
          "name": "stdout",
          "text": [
            "Enter the first number: 4\n",
            "Enter the second number: 2\n",
            "The Least Common Multiple (LCM) of 4 and 2 is: 4\n"
          ]
        }
      ]
    },
    {
      "cell_type": "markdown",
      "source": [
        "Write a Python program to check if a number is positive, negative, or zero using an if-else statement.\n"
      ],
      "metadata": {
        "id": "0Ir-2Vu9od65"
      }
    },
    {
      "cell_type": "code",
      "source": [
        "def check_number(num):\n",
        "  if num > 0:\n",
        "    print(\"The numbers is positive\")\n",
        "  elif num < 0:\n",
        "    print(\"THe number is negative\")\n",
        "  else:\n",
        "    print(\"the num is 0\")\n",
        "\n",
        "#Driver code\n",
        "num = float(input(\"Enter a number: \"))\n",
        "check_number(num)"
      ],
      "metadata": {
        "colab": {
          "base_uri": "https://localhost:8080/"
        },
        "id": "IDCPJQDxotpw",
        "outputId": "5338bd48-985c-48c3-9019-2ea8a22e1888"
      },
      "execution_count": null,
      "outputs": [
        {
          "output_type": "stream",
          "name": "stdout",
          "text": [
            "Enter a number: -89\n",
            "THe number is negative\n"
          ]
        }
      ]
    },
    {
      "cell_type": "markdown",
      "source": [
        "Create a Python program that checks if a given number is even or odd using an if-else statement.\n"
      ],
      "metadata": {
        "id": "VZD2ruOIogYb"
      }
    },
    {
      "cell_type": "code",
      "source": [
        "def count_even_odd(numbers):\n",
        "  even_count = 0\n",
        "  odd_count = 0\n",
        "  for num in numbers:\n",
        "    if num % 2 == 0:\n",
        "      even_count += 1\n",
        "    else:\n",
        "      odd_count += 1\n",
        "  return even_count, odd_count\n",
        "\n",
        "numbers_list = [1, 2, 3, 4, 5, 6, 7, 8, 9, 10]\n",
        "even_count,odd_count = count_even_odd(numbers_list)\n",
        "print(\"Number of even numbers:\", even_count)\n",
        "print(\"Number of odd numbers:\", odd_count)"
      ],
      "metadata": {
        "colab": {
          "base_uri": "https://localhost:8080/"
        },
        "id": "HFggc_iTotC-",
        "outputId": "436a7538-6644-4453-e54d-35e68286c604"
      },
      "execution_count": null,
      "outputs": [
        {
          "output_type": "stream",
          "name": "stdout",
          "text": [
            "Number of even numbers: 5\n",
            "Number of odd numbers: 5\n"
          ]
        }
      ]
    },
    {
      "cell_type": "markdown",
      "source": [
        "How can you use nested if-else statements in Python, and provide an example?\n",
        "\n"
      ],
      "metadata": {
        "id": "YDvyCVwHokIZ"
      }
    },
    {
      "cell_type": "markdown",
      "source": [
        "- Nested if-else statements in Python are used when you need to check multiple conditions, and based on the result of the outer condition, you might need to check additional conditions inside. Here's how you can use nested if-else statements.\n",
        "-"
      ],
      "metadata": {
        "id": "4nu1a74fpfef"
      }
    },
    {
      "cell_type": "code",
      "source": [
        "age = 20\n",
        "previous_violations = 0\n",
        "\n",
        "if age >= 18:\n",
        "    if previous_violations == 0:\n",
        "        print(\"You are eligible for a driving license.\")\n",
        "    else:\n",
        "        print(\"You are eligible for a driving license, but you need to attend a defensive driving course.\")\n",
        "else:\n",
        "    print(\"You are not eligible for a driving license yet.\")"
      ],
      "metadata": {
        "id": "pv-GG_Ihosdo"
      },
      "execution_count": null,
      "outputs": []
    },
    {
      "cell_type": "markdown",
      "source": [
        "Write a Python program to determine the largest of three numbers using if-else.\n"
      ],
      "metadata": {
        "id": "Hd0qh57tonXl"
      }
    },
    {
      "cell_type": "code",
      "source": [
        "def find_largest(num1, num2, num3):\n",
        "  if num1 >= num2 and num1 >= num3:\n",
        "    return num1\n",
        "  elif num2 >= num1 and num2 >= num3:\n",
        "    return num2\n",
        "  else:\n",
        "    return num3\n",
        "\n",
        "num1 = float(input(\"Enter the First number :\"))\n",
        "num2 = float(input(\"Enter the Second number :\"))\n",
        "num3 = float(input(\"Enter the third number :\"))\n",
        "\n",
        "largest = find_largest(num1, num2, num3)\n",
        "print(\"The largest number is :\", largest)"
      ],
      "metadata": {
        "colab": {
          "base_uri": "https://localhost:8080/"
        },
        "id": "1dbq96TIosC-",
        "outputId": "b36c7882-3904-4e4d-a0b4-70b7aad856b4"
      },
      "execution_count": null,
      "outputs": [
        {
          "output_type": "stream",
          "name": "stdout",
          "text": [
            "Enter the First number :81\n",
            "Enter the Second number :97\n",
            "Enter the third number :88\n",
            "The largest number is : 97.0\n"
          ]
        }
      ]
    },
    {
      "cell_type": "markdown",
      "source": [
        "Write a Python program that calculates the absolute value of a number using if-else."
      ],
      "metadata": {
        "id": "RI7B42Zhoplb"
      }
    },
    {
      "cell_type": "code",
      "source": [
        "def absolute_value(number):\n",
        "  if number < 0:\n",
        "    return -number\n",
        "  else:\n",
        "    return number\n",
        "\n",
        "num = float(input(\"Enter a number :\"))\n",
        "result = absolute_value(num)\n",
        "print(\"Absolute value :\", result)"
      ],
      "metadata": {
        "colab": {
          "base_uri": "https://localhost:8080/"
        },
        "id": "osHHbT2sorNS",
        "outputId": "1b6cb48c-a944-4b0f-c1e8-2d1772848525"
      },
      "execution_count": null,
      "outputs": [
        {
          "output_type": "stream",
          "name": "stdout",
          "text": [
            "Enter a number: -1\n",
            "The absolute value of -1.0 is: 1.0\n"
          ]
        }
      ]
    },
    {
      "cell_type": "markdown",
      "source": [
        "Create a Python program that checks if a given character is a vowel or consonant using if-else.\n",
        "\n"
      ],
      "metadata": {
        "id": "26rhfcAkrNwb"
      }
    },
    {
      "cell_type": "code",
      "source": [
        "def char_vol_or_consonant(char):\n",
        "  vowels = 'aeiouAEIOU'\n",
        "  if char.isalpha() and len(char) == 1:\n",
        "    if char in vowels:\n",
        "      return(f\" {char} is vowels\")\n",
        "    else:\n",
        "      return(f\"{char} is consonant\")\n",
        "\n",
        "character = input(\"Enter the character :\")\n",
        "result = char_vol_or_consonant(character)\n",
        "print(result)\n"
      ],
      "metadata": {
        "colab": {
          "base_uri": "https://localhost:8080/"
        },
        "id": "j7Nl8h84nKfF",
        "outputId": "aa2c05c2-3053-4074-9f10-9c401668d90d"
      },
      "execution_count": null,
      "outputs": [
        {
          "output_type": "stream",
          "name": "stdout",
          "text": [
            "Enter the character :happy\n",
            "None\n"
          ]
        }
      ]
    },
    {
      "cell_type": "markdown",
      "source": [
        "Write a Python program to determine if a user is eligible to vote based on their age using if-else.\n"
      ],
      "metadata": {
        "id": "iapA3tRjrUPh"
      }
    },
    {
      "cell_type": "code",
      "source": [
        "def vote_eligible(persons):\n",
        "  if person_age >= 18:\n",
        "    print(\"Eligible for vote\")\n",
        "  else:\n",
        "    print(\"Not eligible for vote\")\n",
        "\n",
        "person_age = int(input(\"Enter Person age: \"))\n",
        "result = vote_eligible(person_age)\n",
        "print(result)"
      ],
      "metadata": {
        "colab": {
          "base_uri": "https://localhost:8080/"
        },
        "id": "J74H6vqIrVtA",
        "outputId": "7a50baf3-9d98-4e56-e0e1-3a5623806911"
      },
      "execution_count": null,
      "outputs": [
        {
          "output_type": "stream",
          "name": "stdout",
          "text": [
            "Enter Person age: 18\n",
            "Eligible for vote\n",
            "None\n"
          ]
        }
      ]
    },
    {
      "cell_type": "markdown",
      "source": [
        "Create a Python program that calculates the discount amount based on the purchase amount using if-else.\n"
      ],
      "metadata": {
        "id": "_fpTqAsNrV2i"
      }
    },
    {
      "cell_type": "code",
      "source": [
        "def calculate_discounted_price(amount):\n",
        "  if amount >= 1000:\n",
        "    discount = 0.1 # 10% discount for purchases of 1000\n",
        "  elif amount >= 500:\n",
        "    discount = 0.05\n",
        "  else:\n",
        "    discount = 0\n",
        "\n",
        "  discounted_price = amount - (amount * discount)\n",
        "  return discounted_price\n",
        "\n",
        "amount = float(input(\"Enter the purchase amount : Rs.\"))\n",
        "discounted_price = calculate_discounted_price(amount)\n",
        "print(\"Discounted price: \", discounted_price)\n"
      ],
      "metadata": {
        "colab": {
          "base_uri": "https://localhost:8080/"
        },
        "id": "AeUD-oA3rXNx",
        "outputId": "21472460-8986-4779-a51f-20103f0a753d"
      },
      "execution_count": null,
      "outputs": [
        {
          "output_type": "stream",
          "name": "stdout",
          "text": [
            "Enter the purchase amount : Rs.1000\n",
            "Discounted price:  900.0\n"
          ]
        }
      ]
    },
    {
      "cell_type": "markdown",
      "source": [
        "Write a Python program to check if a number is within a specified range using if-else.\n"
      ],
      "metadata": {
        "id": "uHPm4BJWrXW4"
      }
    },
    {
      "cell_type": "code",
      "source": [
        "number = float(input(\"Enter a number: \"))\n",
        "# Define the range\n",
        "lower_bound = 10\n",
        "upper_bound = 20\n",
        "\n",
        "# Check if the number is within the specified range\n",
        "if number >= lower_bound and number <= upper_bound:\n",
        "    print(number, \"is within the range\", (lower_bound, upper_bound))\n",
        "else:\n",
        "    print(number, \"is outside the range\", (lower_bound, upper_bound))\n",
        "\n"
      ],
      "metadata": {
        "colab": {
          "base_uri": "https://localhost:8080/"
        },
        "id": "x5wNKP6zrYxc",
        "outputId": "4d586665-b52b-4805-a20b-f9cf78deb36e"
      },
      "execution_count": null,
      "outputs": [
        {
          "output_type": "stream",
          "name": "stdout",
          "text": [
            "Enter a number: 88\n",
            "88.0 is outside the range (10, 20)\n"
          ]
        }
      ]
    },
    {
      "cell_type": "markdown",
      "source": [
        "Create a Python program that determines the grade of a student based on their score using if-else.\n"
      ],
      "metadata": {
        "id": "qUFi0u7ZrZHD"
      }
    },
    {
      "cell_type": "code",
      "source": [
        "def calculate_grade(score):\n",
        "  if score >= 90:\n",
        "    grade = 'A'\n",
        "  elif score >= 80:\n",
        "    grade = 'B'\n",
        "  elif score >= 70:\n",
        "    grade = 'C'\n",
        "  elif score >= 60:\n",
        "    grade = 'd'\n",
        "  elif score >= 50:\n",
        "    grade = 'E'\n",
        "  elif score >= 40:\n",
        "    grade = 'F'\n",
        "  return grade\n",
        "\n",
        "score = float(input(\"Enter the studen's score: \"))\n",
        "\n",
        "if score >= 0 and score <= 100:\n",
        "  grade = calculate_grade(score)\n",
        "  print(f\"The student's grade is {grade}. \")\n",
        "else:\n",
        "  print(\"Invalid score!\")"
      ],
      "metadata": {
        "colab": {
          "base_uri": "https://localhost:8080/"
        },
        "id": "enpgEnDcrac3",
        "outputId": "62d75c1c-7e91-4d05-cb17-875fa7ba622f"
      },
      "execution_count": null,
      "outputs": [
        {
          "output_type": "stream",
          "name": "stdout",
          "text": [
            "Enter the studen's score: 78\n",
            "The student's grade is C. \n"
          ]
        }
      ]
    },
    {
      "cell_type": "markdown",
      "source": [
        "Write a Python program to check if a string is empty or not using if-else.\n"
      ],
      "metadata": {
        "id": "85wc4FmwrcLG"
      }
    },
    {
      "cell_type": "code",
      "source": [
        "input_string = input(\"Enter a string: \")\n",
        "# Check if the string is empty\n",
        "if input_string == \"\":\n",
        "    print(\"The string is empty.\")\n",
        "else:\n",
        "    print(\"The string is not empty.\")"
      ],
      "metadata": {
        "colab": {
          "base_uri": "https://localhost:8080/"
        },
        "id": "DRZHNPcGredB",
        "outputId": "2a525dfc-184d-4a90-bdc5-3da7dc756d2a"
      },
      "execution_count": null,
      "outputs": [
        {
          "output_type": "stream",
          "name": "stdout",
          "text": [
            "Enter a string: \n",
            "The string is empty.\n"
          ]
        }
      ]
    },
    {
      "cell_type": "markdown",
      "source": [
        "Create a Python program that identifies the type of a triangle (e.g., equilateral, isosceles, or scalene) based on input values using if-else.\n"
      ],
      "metadata": {
        "id": "uJFJkhP7uI9q"
      }
    },
    {
      "cell_type": "code",
      "source": [
        "def triangle_type(side1, side2, side3):\n",
        "  if side1 == side2 == side3:\n",
        "    return \"Equilateral triangle\"\n",
        "  elif side1 == side2 or side1 == side3 or side2 == side3:\n",
        "    return \"Isosceles triangle\"\n",
        "  else:\n",
        "    return \"Scalence triangle\"\n",
        "\n",
        "side1 = float(input(\"Enter the length of the first side: \"))\n",
        "side2 = float(input(\"Enter the length of the second side: \"))\n",
        "side3 = float(input(\"Enter the length of the third side: \"))\n",
        "\n",
        "result = triangle_type(side1, side2, side3)\n",
        "print(f\"The triangle is {result} \")\n"
      ],
      "metadata": {
        "colab": {
          "base_uri": "https://localhost:8080/"
        },
        "id": "VK9GS7lyuKOR",
        "outputId": "0ae668e6-abfe-414d-dbba-6c49bede57b1"
      },
      "execution_count": null,
      "outputs": [
        {
          "name": "stdout",
          "output_type": "stream",
          "text": [
            "Enter the length of the first side: 60\n"
          ]
        }
      ]
    },
    {
      "cell_type": "markdown",
      "source": [
        "Write a Python program to determine the day of the week based on a user-provided number using if-else.\n"
      ],
      "metadata": {
        "id": "nL--6nzHreoQ"
      }
    },
    {
      "cell_type": "code",
      "source": [
        "day_number = int(input(\"Enter a number (1-7) representing the day of the week\"))\n",
        "\n",
        "if day_number == 1:\n",
        "  day = \"Monday\"\n",
        "elif day_number == 2:\n",
        "    day = \"Tuesday\"\n",
        "elif day_number == 3:\n",
        "    day = \"Wednesday\"\n",
        "elif day_number == 4:\n",
        "    day = \"Thursday\"\n",
        "elif day_number == 5:\n",
        "    day = \"Friday\"\n",
        "elif day_number == 6:\n",
        "    day = \"Saturday\"\n",
        "elif day_number == 7:\n",
        "    day = \"Sunday\"\n",
        "else:\n",
        "    day = \"Invalid input\"\n",
        "print(\"The day corresponding to the input number is:\", day)"
      ],
      "metadata": {
        "id": "rznvpswUrgiC",
        "colab": {
          "base_uri": "https://localhost:8080/"
        },
        "outputId": "1d9d93df-5530-40c4-e197-1f69365aa219"
      },
      "execution_count": null,
      "outputs": [
        {
          "output_type": "stream",
          "name": "stdout",
          "text": [
            "Enter a number (1-7) representing the day of the week7\n",
            "The day corresponding to the input number is: Sunday\n"
          ]
        }
      ]
    },
    {
      "cell_type": "markdown",
      "source": [
        "Create a Python program that checks if a given year is a leap year using both if-else and a function.\n"
      ],
      "metadata": {
        "id": "H2DlKHkxrgxo"
      }
    },
    {
      "cell_type": "code",
      "source": [
        "Leap_year = int(input(\"enter the year\"))\n",
        "if (Leap_year % 4 == 0 and Leap_year % 100 != 0) or (Leap_year % 400 == 0):\n",
        "  print(f\"{Leap_year} is a leap year. \")\n",
        "else:\n",
        "  print(f\"{Leap_year} is not leap year\")"
      ],
      "metadata": {
        "id": "s_Cp9BXBriMW",
        "colab": {
          "base_uri": "https://localhost:8080/"
        },
        "outputId": "814bbefd-fea1-4fa8-c7f5-22c99ac5fdff"
      },
      "execution_count": null,
      "outputs": [
        {
          "output_type": "stream",
          "name": "stdout",
          "text": [
            "enter the year2024\n",
            "2024 is a leap year. \n"
          ]
        }
      ]
    },
    {
      "cell_type": "markdown",
      "source": [
        "How do you use the \"assert\" statement in Python to add debugging checks within if-else blocks?\n"
      ],
      "metadata": {
        "id": "ZihDSNX7riar"
      }
    },
    {
      "cell_type": "markdown",
      "source": [
        "-\n",
        "The assert statement in Python is used to assert that a certain condition is true during the execution of the program. It's commonly used for debugging purposes to add sanity checks and ensure that the program behaves as expected. You can use assert within if-else blocks to verify conditions and halt the program with an error message if the condition is not met."
      ],
      "metadata": {
        "id": "Qbu0Dq0qvr-r"
      }
    },
    {
      "cell_type": "code",
      "source": [
        "x = 10\n",
        "\n",
        "if x > 5:\n",
        "    assert x < 20, \"x should be less than 20\"\n",
        "    print(\"x is greater than 5 and less than 20\")\n",
        "else:\n",
        "    assert x >= 0, \"x should be non-negative\"\n",
        "    print(\"x is less than or equal to 5\")\n",
        "\n",
        "\n"
      ],
      "metadata": {
        "id": "4A64BC_5rjxm",
        "colab": {
          "base_uri": "https://localhost:8080/"
        },
        "outputId": "d467b0b4-0df5-430c-c735-2ab8bf507e8d"
      },
      "execution_count": null,
      "outputs": [
        {
          "output_type": "stream",
          "name": "stdout",
          "text": [
            "x is greater than 5 and less than 20\n"
          ]
        }
      ]
    },
    {
      "cell_type": "markdown",
      "source": [
        "Create a Python program that determines the eligibility of a person for a senior citizen discount based on age using if-else.\n"
      ],
      "metadata": {
        "id": "7zpN-noLrj7h"
      }
    },
    {
      "cell_type": "code",
      "source": [
        "age = int(input(\"Enter your age: \"))\n",
        "\n",
        "# Define the minimum age for senior citizen discount\n",
        "senior_age = 60\n",
        "# Check if the person is eligible for a senior citizen discount\n",
        "if age >= senior_age:\n",
        "    print(\"Congratulations! You are eligible for a senior citizen discount.\")\n",
        "else:\n",
        "    print(\"Sorry, you are not eligible for a senior citizen discount.\")\n"
      ],
      "metadata": {
        "id": "n482UdhkrlSF",
        "colab": {
          "base_uri": "https://localhost:8080/"
        },
        "outputId": "b5b14289-0a1a-4c7c-80eb-5ba1ad449794"
      },
      "execution_count": null,
      "outputs": [
        {
          "output_type": "stream",
          "name": "stdout",
          "text": [
            "Enter your age: 56\n",
            "Sorry, you are not eligible for a senior citizen discount.\n"
          ]
        }
      ]
    },
    {
      "cell_type": "markdown",
      "source": [
        "Write a Python program to categorize a given character as uppercase, lowercase, or neither using if-else.\n"
      ],
      "metadata": {
        "id": "7TqtlOEfrlnv"
      }
    },
    {
      "cell_type": "code",
      "source": [
        "character = input(\"Enter a character: \")\n",
        "# Check if the character is uppercase, lowercase, or neither\n",
        "if character.isupper():\n",
        "    print(\"The character is uppercase.\")\n",
        "elif character.islower():\n",
        "    print(\"The character is lowercase.\")\n",
        "else:\n",
        "    print(\"The character is neither uppercase nor lowercase.\")"
      ],
      "metadata": {
        "id": "2cDAOMhyrnFx",
        "colab": {
          "base_uri": "https://localhost:8080/"
        },
        "outputId": "70af112d-dcd3-4923-f3b5-ba683aaf9fdd"
      },
      "execution_count": null,
      "outputs": [
        {
          "output_type": "stream",
          "name": "stdout",
          "text": [
            "Enter a character: iiii\n",
            "The character is lowercase.\n"
          ]
        }
      ]
    },
    {
      "cell_type": "markdown",
      "source": [
        "Write a Python program to determine the roots of a quadratic equation using if-else.\n"
      ],
      "metadata": {
        "id": "t37I_Ao7rnVF"
      }
    },
    {
      "cell_type": "code",
      "source": [
        "import math\n",
        "\n",
        "def calculate_roots(a, b, c):\n",
        "  discriminant = b**2 - 4*a*c\n",
        "\n",
        "  if discriminant > 0:\n",
        "    root1 = (-b + math.sqrt(discriminant))/(2*a)\n",
        "    root2 = (-b + math.sqrt(discriminant))/(2*a)\n",
        "  elif discriminant == 0:\n",
        "    root = -b / (2*a)\n",
        "  else:\n",
        "    real_part = -b / (2*a)\n",
        "    imaginary_part = math.sqrt(abs(discriminant))/ (2*a)\n",
        "    root1 = complex(real_part, imaginary_part)\n",
        "    root2 = complex(real_part, imaginary_part)\n",
        "    return root1, root2\n",
        "\n",
        "a = float(input(\"enter the cofficient of x^2 (a) : \"))\n",
        "b = float(input(\"enter the cofficient of x(b): \"))\n",
        "c = float(input(\"enter the constent term (c): \"))\n",
        "\n",
        "roots = calculate_roots(a, b, c)\n",
        "if isinstance(roots[0], complex):\n",
        "  print(\"The roots are complex numbers:\")\n",
        "  print(\"Root 1:\", roots[0])\n",
        "  print(\"Root 2:\", roots[1])\n",
        "else:\n",
        "  print(\"The roots are real numbers:\")\n",
        "  print(\"Root 1:\", roots[0])\n",
        "  print(\"Root 2:\", roots[1])\n"
      ],
      "metadata": {
        "id": "ps9JGOyXro3z",
        "colab": {
          "base_uri": "https://localhost:8080/"
        },
        "outputId": "01bc78f8-c2df-4c2b-9318-0aea191d06ab"
      },
      "execution_count": null,
      "outputs": [
        {
          "output_type": "stream",
          "name": "stdout",
          "text": [
            "enter the cofficient of x^2 (a) : 2\n",
            "enter the cofficient of x(b): 4\n",
            "enter the constent term (c): 6\n",
            "The roots are complex numbers:\n",
            "Root 1: (-1+1.4142135623730951j)\n",
            "Root 2: (-1+1.4142135623730951j)\n"
          ]
        }
      ]
    },
    {
      "cell_type": "markdown",
      "source": [
        "Create a Python program that checks if a given year is a century year or not using if-else.\n"
      ],
      "metadata": {
        "id": "DoLrJwo_rpHs"
      }
    },
    {
      "cell_type": "code",
      "source": [
        "def Leap_year(year):\n",
        "  return (year % 4 == 0 and year % 100 != 0) or (year % 400 == 0)\n",
        "\n",
        "def centuray_year(year):\n",
        "  return year % 100 == 0\n",
        "\n",
        "def main():\n",
        "  year = int(input(\"Enter a year :\"))\n",
        "\n",
        "  if Leap_year(year):\n",
        "    print(year, \"is a leap year\")\n",
        "  else:\n",
        "    print(year, \"is not a leap year\" )\n",
        "\n",
        "  if centuray_year(year):\n",
        "    print(year, \"is a century year\")\n",
        "  else:\n",
        "    print(year, \"is not a century year\")\n",
        "\n",
        "result = main()\n",
        "print(result)"
      ],
      "metadata": {
        "id": "OwGJOiMzrqjM",
        "colab": {
          "base_uri": "https://localhost:8080/"
        },
        "outputId": "970ea7da-9bb8-43f6-a68c-8b0aa8316bba"
      },
      "execution_count": null,
      "outputs": [
        {
          "output_type": "stream",
          "name": "stdout",
          "text": [
            "Enter a year :2000\n",
            "2000 is a leap year\n",
            "2000 is a century year\n",
            "None\n"
          ]
        }
      ]
    },
    {
      "cell_type": "markdown",
      "source": [
        "Write a Python program to determine if a given number is a perfect square using if-else.\n"
      ],
      "metadata": {
        "id": "XBLFFiA4rq1Q"
      }
    },
    {
      "cell_type": "code",
      "source": [
        "number = int(input(\"Enter a number: \"))\n",
        "\n",
        "# Check if the number is a perfect square\n",
        "if number < 0:\n",
        "    print(\"The number is not a perfect square.\")\n",
        "else:\n",
        "    # Calculate the square root of the number\n",
        "    square_root = number ** 0.5\n",
        "\n",
        "    # Check if the square root is an integer\n",
        "    if square_root == int(square_root):\n",
        "        print(\"The number is a perfect square.\")\n",
        "    else:\n",
        "        print(\"The number is not a perfect square.\")"
      ],
      "metadata": {
        "id": "vGQuxYy9rsUS",
        "colab": {
          "base_uri": "https://localhost:8080/"
        },
        "outputId": "c3924557-21ee-41c0-93f0-aa9d65123502"
      },
      "execution_count": null,
      "outputs": [
        {
          "output_type": "stream",
          "name": "stdout",
          "text": [
            "Enter a number: 78\n",
            "The number is not a perfect square.\n"
          ]
        }
      ]
    },
    {
      "cell_type": "markdown",
      "source": [
        "Explain the purpose of the \"continue\" and \"break\" statements within if-else loops.\n"
      ],
      "metadata": {
        "id": "zlENtVGTrskh"
      }
    },
    {
      "cell_type": "markdown",
      "source": [
        "# continue statement:\n",
        "- The continue statement is used to skip the rest of the code inside the loop for the current iteration and proceed to the next iteration of the loop.\n",
        "- When encountered, continue immediately stops the current iteration and jumps back to the beginning of the loop to start the next iteration.\n",
        "- It is typically used when you want to skip certain iterations based on a specific condition without terminating the loop entirely.\n",
        "\n",
        "- Example:\n",
        "- for i in range(1, 11):\n",
        "    - if i % 2 == 0:\n",
        "       - continue  # Skip even numbers\n",
        "   - print(i)\n",
        "\n",
        "#break statement:\n",
        "- The break statement is used to terminate the loop immediately when a certain condition is met, regardless of whether the loop has completed all iterations or not.\n",
        "- When encountered, break exits the loop completely, and the program continues with the next statement following the loop.\n",
        "- It is typically used when you want to exit the loop prematurely based on a specific condition.\n",
        "-  Example:\n",
        "- target = 5\n",
        "- for i in range(1, 11):\n",
        "    - if i == target:\n",
        "        - print(\"Target found at index\", i)\n",
        "       - break  # Terminate the loop\n",
        "- else:\n",
        "   - print(\"Target not found\")\n"
      ],
      "metadata": {
        "id": "SFJEDaGNyaDL"
      }
    },
    {
      "cell_type": "code",
      "source": [],
      "metadata": {
        "id": "Iq7bG29_rtyg"
      },
      "execution_count": null,
      "outputs": []
    },
    {
      "cell_type": "markdown",
      "source": [
        "Create a Python program that calculates the BMI (Body Mass Index) of a person based on their weight and height using if-else.\n"
      ],
      "metadata": {
        "id": "RCKcOKyLruEO"
      }
    },
    {
      "cell_type": "code",
      "source": [
        "def calculate_bmi(weight, height):\n",
        "  return weight / (height ** 2)\n",
        "\n",
        "def categorize_bmi(bmi):\n",
        "  if bmi < 18.5:\n",
        "    return \"Underweight\"\n",
        "  elif bmi < 25:\n",
        "    return \"Normal\"\n",
        "  elif bmi < 30:\n",
        "    return \"Overweight\"\n",
        "  else:\n",
        "    return \"Obese\"\n",
        "\n",
        "weight = float(input(\"Enter your weight in kilograms: \"))\n",
        "height = float(input(\"Enter your height in meters: \"))\n",
        "bmi = calculate_bmi(weight, height)\n",
        "category = categorize_bmi(bmi)\n",
        "\n",
        "print(\"Your BMI is :\", bmi)\n",
        "print(\"Your are\", category)"
      ],
      "metadata": {
        "id": "QWAqq_C2rv7V",
        "colab": {
          "base_uri": "https://localhost:8080/"
        },
        "outputId": "90efef72-d16f-4c12-94ab-f3a30ce36212"
      },
      "execution_count": null,
      "outputs": [
        {
          "output_type": "stream",
          "name": "stdout",
          "text": [
            "Enter your weight in kilograms: 87\n",
            "Enter your height in meters: 5.10\n",
            "Your BMI is : 3.3448673587081896\n",
            "Your are Underweight\n"
          ]
        }
      ]
    },
    {
      "cell_type": "markdown",
      "source": [
        "How can you use the \"filter()\" function with if-else statements to filter elements from a list?\n"
      ],
      "metadata": {
        "id": "yffqh_c5rwQl"
      }
    },
    {
      "cell_type": "code",
      "source": [
        "numbers = [1, 2, 3, 4, 5, 6, 7, 8, 9, 10]\n",
        "\n",
        "# Define a function to filter even numbers\n",
        "def is_even(number):\n",
        "    if number % 2 == 0:\n",
        "        return True  # Return True if the number is even\n",
        "    else:\n",
        "        return False  # Return False if the number is odd\n",
        "# Use the filter() function with the is_even() function to filter even numbers\n",
        "even_numbers = filter(is_even, numbers)\n",
        "\n",
        "# Convert the filter object to a list to see the filtered elements\n",
        "even_numbers_list = list(even_numbers)\n",
        "\n",
        "# Print the filtered even numbers\n",
        "print(\"Even numbers:\", even_numbers_list)"
      ],
      "metadata": {
        "id": "fz-tUfA3rxnA",
        "colab": {
          "base_uri": "https://localhost:8080/"
        },
        "outputId": "318fc8c5-dff8-41c3-911e-677e9c697b68"
      },
      "execution_count": null,
      "outputs": [
        {
          "output_type": "stream",
          "name": "stdout",
          "text": [
            "Even numbers: [2, 4, 6, 8, 10]\n"
          ]
        }
      ]
    },
    {
      "cell_type": "markdown",
      "source": [
        "Write a Python program to determine if a given number is prime or not using if-else."
      ],
      "metadata": {
        "id": "j0U00Dxyrx9E"
      }
    },
    {
      "cell_type": "code",
      "source": [
        "def is_prime_number(number):\n",
        "  if number <=1:\n",
        "    return False\n",
        "  elif number <=3:\n",
        "    return True\n",
        "  else:\n",
        "    for i in range(2, int(number**0.5) + 1):\n",
        "      if number % i == 0:\n",
        "        return False\n",
        "      return True\n",
        "number = int(input(\"Enter a number :\"))\n",
        "if is_prime_number(number):\n",
        "  print(number, \"is a prime number.\")\n",
        "else:\n",
        "  print(number, \"is not a prime number.\")\n",
        "\n"
      ],
      "metadata": {
        "id": "jRjDdyOsry0v",
        "colab": {
          "base_uri": "https://localhost:8080/"
        },
        "outputId": "128625bb-5f06-4aef-e673-8a7709776dde"
      },
      "execution_count": null,
      "outputs": [
        {
          "output_type": "stream",
          "name": "stdout",
          "text": [
            "Enter a number :89\n",
            "89 is a prime number.\n"
          ]
        }
      ]
    },
    {
      "cell_type": "code",
      "source": [],
      "metadata": {
        "id": "V75jTfQH0WI5"
      },
      "execution_count": null,
      "outputs": []
    },
    {
      "cell_type": "markdown",
      "source": [
        "# Map"
      ],
      "metadata": {
        "id": "CUo8RTxp0XRG"
      }
    },
    {
      "cell_type": "markdown",
      "source": [
        "Explain the purpose of the `map()` function in Python and provide an example of how it can be used to apply a function to each element of an iterable.\n",
        "\n"
      ],
      "metadata": {
        "id": "2U_dqlFv0fnj"
      }
    },
    {
      "cell_type": "markdown",
      "source": [
        "- The map() function in Python is used to apply a given function to each item of an iterable (such as a list, tuple, or string) and returns a new iterable with the results. It takes two arguments: the function to apply and the iterable to apply it to."
      ],
      "metadata": {
        "id": "9VBG6fFWL5AH"
      }
    },
    {
      "cell_type": "code",
      "source": [
        "# Define a function to square a number\n",
        "def square(x):\n",
        "  return x ** 2\n",
        "\n",
        "# Create a list of numbers\n",
        "numbers = [1, 2, 3, 4, 5]\n",
        "\n",
        "# Use map() to apply the square function to each element of the numbers list\n",
        "squared_numbers = map(square, numbers)\n",
        "\n",
        "# Convert the map object to a list to see the result\n",
        "print(list(squared_numbers))\n"
      ],
      "metadata": {
        "id": "8VMB70rK1Do-",
        "colab": {
          "base_uri": "https://localhost:8080/"
        },
        "outputId": "d8ceb9c9-8221-4393-b3d0-43d6a557bb2b"
      },
      "execution_count": null,
      "outputs": [
        {
          "output_type": "stream",
          "name": "stdout",
          "text": [
            "[1, 4, 9, 16, 25]\n"
          ]
        }
      ]
    },
    {
      "cell_type": "markdown",
      "source": [
        "Write a Python program that uses the `map()` function to square each element of a list of numbers.\n"
      ],
      "metadata": {
        "id": "pld64GUL1EPb"
      }
    },
    {
      "cell_type": "code",
      "source": [
        "# Define a function to square a number\n",
        "def square(x):\n",
        "  return x ** 2\n",
        "\n",
        "# Create a list of numbers\n",
        "numbers = [1, 2, 3, 4, 5]\n",
        "\n",
        "# Use map() to apply the square function to each element of the numbers list\n",
        "squared_numbers = map(square, numbers)\n",
        "\n",
        "# Convert the map object to a list to see the result\n",
        "print(list(squared_numbers))"
      ],
      "metadata": {
        "id": "HZgfFFBu1GL_",
        "colab": {
          "base_uri": "https://localhost:8080/"
        },
        "outputId": "9fd1b503-aa91-48ea-b265-e8d02cf22a68"
      },
      "execution_count": null,
      "outputs": [
        {
          "output_type": "stream",
          "name": "stdout",
          "text": [
            "[1, 4, 9, 16, 25]\n"
          ]
        }
      ]
    },
    {
      "cell_type": "markdown",
      "source": [
        "How does the `map()` function differ from a list comprehension in Python, and when would you choose one over the other?\n"
      ],
      "metadata": {
        "id": "3gd6kLb11GYN"
      }
    },
    {
      "cell_type": "markdown",
      "source": [
        "- Answer =\n",
        "- 1. Syntex:\n",
        "- map() function syntax: map(function, iterable)\n",
        "- List comprehension syntax: [function(element) for element in iterable]\n",
        "- 2. Return type:\n",
        "- map() returns an iterator (or map object in Python), which can be converted to other iterables like lists, tuples, etc.\n",
        "- List comprehension returns a new list.\n",
        "- 3.Readability:\n",
        "- List comprehensions are often more readable and concise for simple transformations. They can express the transformation more directly in the code.\n",
        "map() can be less readable, especially when used with lambda functions, as it requires defining the function separately.\n",
        "- 4. Performance:\n",
        "\n",
        "- In terms of performance, map() may have a slight advantage, especially for larger datasets, as it is optimized internally.\n",
        "- List comprehensions might be slightly slower due to the overhead of creating a new list.\n",
        "- 5.Flexibility:\n",
        "- map() is more flexible when dealing with multiple iterables. It can apply a function to elements from multiple iterables simultaneously.\n",
        "- List comprehensions are limited to iterating over a single iterable.\n",
        "When to choose one over the other:\n",
        "\n",
        "# Use map():\n",
        "- When applying a simple function to each element of an iterable.\n",
        "- When you want lazy evaluation (i.e., you don't need to process all elements at once).\n",
        "- When working with multiple iterables simultaneously.\n",
        "- Use list comprehension:\n",
        "- When the transformation is simple and straightforward.\n",
        "- When you want the result as a list.\n",
        "- When readability is a priority."
      ],
      "metadata": {
        "id": "fbTa3nGpNJqQ"
      }
    },
    {
      "cell_type": "code",
      "source": [],
      "metadata": {
        "id": "7kD1U_eG1M-9"
      },
      "execution_count": null,
      "outputs": []
    },
    {
      "cell_type": "markdown",
      "source": [
        "Create a Python program that uses the `map()` function to convert a list of names to uppercase.\n"
      ],
      "metadata": {
        "id": "zZNy_cz21H0F"
      }
    },
    {
      "cell_type": "code",
      "source": [
        "names = [\"Alice\", \"Bob\", \"Charlie\", \"David\"]\n",
        "\n",
        "# Use map() to convert each name to uppercase\n",
        "uppercased_names = map(str.upper, names)\n",
        "\n",
        "# Convert the map object to a list to see the result\n",
        "uppercased_names_list = list(uppercased_names)\n",
        "print(uppercased_names_list)"
      ],
      "metadata": {
        "id": "RkuyHB-P1MGA",
        "colab": {
          "base_uri": "https://localhost:8080/"
        },
        "outputId": "d5f6cd17-d146-4605-a995-4dba8c198fd4"
      },
      "execution_count": null,
      "outputs": [
        {
          "output_type": "stream",
          "name": "stdout",
          "text": [
            "['ALICE', 'BOB', 'CHARLIE', 'DAVID']\n"
          ]
        }
      ]
    },
    {
      "cell_type": "markdown",
      "source": [
        "Write a Python program that uses the `map()` function to calculate the length of each word in a list of strings."
      ],
      "metadata": {
        "id": "OV3o_Xq41JqD"
      }
    },
    {
      "cell_type": "code",
      "source": [
        "strings = [\"apple\", \"banana\", \"orange\", \"kiwi\"]\n",
        "\n",
        "# Use map() to calculate the length of each word\n",
        "word_lengths = map(len, strings)\n",
        "\n",
        "# Convert the map object to a list to see the result\n",
        "word_lengths_list = list(word_lengths)\n",
        "print(word_lengths_list)"
      ],
      "metadata": {
        "id": "FvQeS8eF1LAr",
        "colab": {
          "base_uri": "https://localhost:8080/"
        },
        "outputId": "52c31951-b67b-42c5-8bee-22d3c0e8a4a6"
      },
      "execution_count": null,
      "outputs": [
        {
          "output_type": "stream",
          "name": "stdout",
          "text": [
            "[5, 6, 6, 4]\n"
          ]
        }
      ]
    },
    {
      "cell_type": "markdown",
      "source": [
        "How can you use the `map()` function to apply a custom function to elements of multiple lists simultaneously in Python?\n",
        "\n",
        "\n"
      ],
      "metadata": {
        "id": "BdvLL7JL0jYo"
      }
    },
    {
      "cell_type": "code",
      "source": [
        "def custom_function(x, y):\n",
        "    return x + y\n",
        "\n",
        "list1 = [1, 2, 3]\n",
        "list2 = [4, 5, 6]\n",
        "\n",
        "# Use map() to apply the custom function to elements of both lists simultaneously\n",
        "result = map(custom_function, list1, list2)\n",
        "\n",
        "# Convert the map object to a list to see the result\n",
        "result_list = list(result)\n",
        "\n",
        "print(result_list)"
      ],
      "metadata": {
        "id": "1h2DhGIU0toH",
        "colab": {
          "base_uri": "https://localhost:8080/"
        },
        "outputId": "fd65f236-edb1-4083-c879-74b02850bdd0"
      },
      "execution_count": null,
      "outputs": [
        {
          "output_type": "stream",
          "name": "stdout",
          "text": [
            "[5, 7, 9]\n"
          ]
        }
      ]
    },
    {
      "cell_type": "markdown",
      "source": [
        "Write a Python program that uses the `map()` function to round each element of a list of floating-point numbers to the nearest integer."
      ],
      "metadata": {
        "id": "4C4GwNgr0n2t"
      }
    },
    {
      "cell_type": "code",
      "source": [
        "float_numbers = [3.14, 2.718, 1.618, 4.669]\n",
        "\n",
        "# Use map() to round each element to the nearest integer\n",
        "rounded_integers = map(round, float_numbers)\n",
        "\n",
        "# Convert the map object to a list to see the result\n",
        "rounded_integers_list = list(rounded_integers)\n",
        "\n",
        "# Print the rounded integers\n",
        "print(rounded_integers_list)\n"
      ],
      "metadata": {
        "id": "O4xSjmFA0ovJ",
        "colab": {
          "base_uri": "https://localhost:8080/"
        },
        "outputId": "cfbe8951-376b-45a2-dc2e-3144a9fc212d"
      },
      "execution_count": null,
      "outputs": [
        {
          "output_type": "stream",
          "name": "stdout",
          "text": [
            "[3, 3, 2, 5]\n"
          ]
        }
      ]
    },
    {
      "cell_type": "markdown",
      "source": [
        "Create a Python program that uses `map()` to convert a list of temperatures from Celsius to Fahrenheit."
      ],
      "metadata": {
        "id": "KVdUe0Tk0o9L"
      }
    },
    {
      "cell_type": "code",
      "source": [
        "def celsius_to_fahrenheit(celsius):\n",
        "    return (celsius * 9/5) + 32\n",
        "\n",
        "# List of temperatures in Celsius\n",
        "temperatures_celsius = [0, 10, 20, 30, 40]\n",
        "\n",
        "# Use map() to apply the conversion function to each temperature in Celsius\n",
        "temperatures_fahrenheit = map(celsius_to_fahrenheit, temperatures_celsius)\n",
        "\n",
        "# Convert the map object to a list to see the result\n",
        "temperatures_fahrenheit_list = list(temperatures_fahrenheit)\n",
        "\n",
        "# Print the temperatures in Fahrenheit\n",
        "print(temperatures_fahrenheit_list)\n"
      ],
      "metadata": {
        "id": "X-dwVZi30yTz",
        "colab": {
          "base_uri": "https://localhost:8080/"
        },
        "outputId": "a3c37afd-d093-4b79-f66e-c6412887ea60"
      },
      "execution_count": null,
      "outputs": [
        {
          "output_type": "stream",
          "name": "stdout",
          "text": [
            "[32.0, 50.0, 68.0, 86.0, 104.0]\n"
          ]
        }
      ]
    },
    {
      "cell_type": "markdown",
      "source": [
        "#Reduce :-\n",
        "\n",
        "\n",
        "What is the `reduce()` function in Python, and what module should you import to use it? Provide an example of its basic usage.\n",
        "\n"
      ],
      "metadata": {
        "id": "j-4bWTLMQxb1"
      }
    },
    {
      "cell_type": "markdown",
      "source": [
        "- The reduce() function in Python is used to apply a function of two arguments cumulatively to the items of an iterable, from left to right, to reduce the iterable to a single value. The reduce() function is part of the functools module in Python, so you need to import this module to use it."
      ],
      "metadata": {
        "id": "r7G7B6jhR6DR"
      }
    },
    {
      "cell_type": "code",
      "source": [
        "# Import the functools module\n",
        "from functools import reduce\n",
        "\n",
        "\n",
        "# Define a function to add two numbers\n",
        "def add(x, y):\n",
        "    return x + y\n",
        "\n",
        "numbers = [1,2,3,4,5,6]\n",
        "\n",
        "# Use reduce() to sum all numbers in the list\n",
        "result = reduce(add, numbers)\n",
        "print(result)"
      ],
      "metadata": {
        "colab": {
          "base_uri": "https://localhost:8080/"
        },
        "id": "fV98XQzvQ7Zj",
        "outputId": "63ffec06-fcf8-4fff-b571-e89445f3d7d8"
      },
      "execution_count": null,
      "outputs": [
        {
          "output_type": "stream",
          "name": "stdout",
          "text": [
            "21\n"
          ]
        }
      ]
    },
    {
      "cell_type": "markdown",
      "source": [
        "Write a Python program that uses the `reduce()` function to find the product of all elements in a list.\n"
      ],
      "metadata": {
        "id": "G82sH624Q71l"
      }
    },
    {
      "cell_type": "code",
      "source": [
        "from functools import reduce\n",
        "def mulply(x, y):\n",
        "  return x*y\n",
        "numbers = [1,2,3,4,5,6]\n",
        "result = reduce(mulply, numbers)\n",
        "print(result)"
      ],
      "metadata": {
        "colab": {
          "base_uri": "https://localhost:8080/"
        },
        "id": "lJgDO_5ZQ9PC",
        "outputId": "ceb103da-b333-4c44-8792-24254a9b2c5b"
      },
      "execution_count": null,
      "outputs": [
        {
          "output_type": "stream",
          "name": "stdout",
          "text": [
            "720\n"
          ]
        }
      ]
    },
    {
      "cell_type": "markdown",
      "source": [
        "Create a Python program that uses `reduce()` to find the maximum element in a list of numbers.\n"
      ],
      "metadata": {
        "id": "7zX1WiDfQ9d9"
      }
    },
    {
      "cell_type": "code",
      "source": [
        "from functools import reduce\n",
        "def maximum(x, y):\n",
        "  return x if x>y else y\n",
        "\n",
        "numbers = [1,2,3,4,5,6]\n",
        "result = reduce(maximum, numbers)\n",
        "print(result)"
      ],
      "metadata": {
        "colab": {
          "base_uri": "https://localhost:8080/"
        },
        "id": "CldjIqT8Q_Ak",
        "outputId": "d68e93d4-35b8-425f-9cec-900f4521b2e6"
      },
      "execution_count": null,
      "outputs": [
        {
          "output_type": "stream",
          "name": "stdout",
          "text": [
            "6\n"
          ]
        }
      ]
    },
    {
      "cell_type": "markdown",
      "source": [
        "How can you use the `reduce()` function to concatenate a list of strings into a single string?\n"
      ],
      "metadata": {
        "id": "aLt1jVMzQ_Un"
      }
    },
    {
      "cell_type": "code",
      "source": [
        "from functools import reduce\n",
        "def concatenate_strings(string1, string2):\n",
        "  return string1 + string2\n",
        "\n",
        "strings = [\"Hello\", \", \", \"world\", \"!\"]\n",
        "concatenate_strings = reduce(concatenate_strings, strings)\n",
        "print(concatenate_strings)"
      ],
      "metadata": {
        "colab": {
          "base_uri": "https://localhost:8080/"
        },
        "id": "sIalE4ovRA0k",
        "outputId": "ebb43069-d26b-418e-a6a8-5e454b8142ae"
      },
      "execution_count": null,
      "outputs": [
        {
          "output_type": "stream",
          "name": "stdout",
          "text": [
            "Hello, world!\n"
          ]
        }
      ]
    },
    {
      "cell_type": "markdown",
      "source": [
        "Write a Python program that calculates the factorial of a number using the `reduce()` function.\n"
      ],
      "metadata": {
        "id": "eIXqclfIRBLA"
      }
    },
    {
      "cell_type": "code",
      "source": [
        "from functools import reduce\n",
        "def multiply(x, y):\n",
        "  return x*y\n",
        "\n",
        "def factorial(n):\n",
        "  numbers = list(range(1, n + 1))\n",
        "  return reduce(multiply, numbers, 1)\n",
        "\n",
        "number = int(input(\"Enter a number to calculate its factorial: \"))\n",
        "result = factorial(number)\n",
        "print(\"Factorial of\", number, \"is:\", result)"
      ],
      "metadata": {
        "colab": {
          "base_uri": "https://localhost:8080/"
        },
        "id": "k45sLXQYRCxJ",
        "outputId": "d3b6d3a3-7e97-41e8-e051-aabf324d2ddf"
      },
      "execution_count": null,
      "outputs": [
        {
          "output_type": "stream",
          "name": "stdout",
          "text": [
            "Enter a number to calculate its factorial: 5\n",
            "Factorial of 5 is: 120\n"
          ]
        }
      ]
    },
    {
      "cell_type": "markdown",
      "source": [
        "Create a Python program that uses `reduce()` to find the GCD (Greatest Common Divisor) of a list of numbers.\n"
      ],
      "metadata": {
        "id": "wF9mqN_mRDEz"
      }
    },
    {
      "cell_type": "code",
      "source": [
        "from functools import reduce\n",
        "\n",
        "# Define a function to calculate the GCD of two numbers using the Euclidean algorithm\n",
        "def gcd(x, y):\n",
        "    while y:\n",
        "        x, y = y, x % y\n",
        "    return x\n",
        "\n",
        "numbers = [36, 48, 60, 72]\n",
        "gcd_of_numbers = reduce(gcd, numbers)\n",
        "print(\"GCD of the numbers:\", gcd_of_numbers)\n"
      ],
      "metadata": {
        "colab": {
          "base_uri": "https://localhost:8080/"
        },
        "id": "4KVBw0cwREoZ",
        "outputId": "a8220b33-1188-4559-c75d-dc88fd45c4fb"
      },
      "execution_count": null,
      "outputs": [
        {
          "output_type": "stream",
          "name": "stdout",
          "text": [
            "GCD of the numbers: 12\n"
          ]
        }
      ]
    },
    {
      "cell_type": "markdown",
      "source": [
        "Write a Python program that uses the `reduce()` function to find the sum of the digits of a given number."
      ],
      "metadata": {
        "id": "QRtJmaOjRE_V"
      }
    },
    {
      "cell_type": "code",
      "source": [
        "from functools import reduce\n",
        "def digits_list(number):\n",
        "  return [int(digit) for digit in str(number)]\n",
        "\n",
        "def sum_of_digits(number):\n",
        "  digits = digits_list(number)\n",
        "  return reduce(lambda x, y: x+y, digits, 0)\n",
        "\n",
        "number = int(input(\"Enter a number: \"))\n",
        "result = sum_of_digits(number)\n",
        "print(\"Sum of digits:\", result)"
      ],
      "metadata": {
        "colab": {
          "base_uri": "https://localhost:8080/"
        },
        "id": "XxitGTQZRFzs",
        "outputId": "276e023d-aff5-4879-bdda-3a0f167862fa"
      },
      "execution_count": null,
      "outputs": [
        {
          "output_type": "stream",
          "name": "stdout",
          "text": [
            "Enter a number: 77\n",
            "Sum of digits: 14\n"
          ]
        }
      ]
    },
    {
      "cell_type": "markdown",
      "source": [
        "# Filter :-\n",
        "\n",
        "\n",
        "Explain the purpose of the `filter()` function in Python and provide an example of how it can be used to filter elements from an iterable.\n",
        "\n"
      ],
      "metadata": {
        "id": "1kxCwpSjW4Fn"
      }
    },
    {
      "cell_type": "markdown",
      "source": [
        "The filter() function in Python is used to filter elements from an iterable based on a specified condition. It takes two arguments: a function that defines the condition and an iterable. The function is applied to each element of the iterable, and only the elements for which the function returns True are included in the result."
      ],
      "metadata": {
        "id": "nAvW4ernXPMP"
      }
    },
    {
      "cell_type": "code",
      "source": [
        "#Example\n",
        "def is_even(num):\n",
        "  return num % 2 == 0\n",
        "\n",
        "numbers = [1, 2, 3, 4, 5, 6, 7, 8, 9, 10]\n",
        "even_numbers = filter(is_even, numbers)\n",
        "even_numbers_list = list(even_numbers)\n",
        "print(even_numbers_list)"
      ],
      "metadata": {
        "colab": {
          "base_uri": "https://localhost:8080/"
        },
        "id": "n1gMHeOVWvwO",
        "outputId": "0edd4a3a-fd1d-4372-f206-f93806e67a06"
      },
      "execution_count": null,
      "outputs": [
        {
          "output_type": "stream",
          "name": "stdout",
          "text": [
            "[2, 4, 6, 8, 10]\n"
          ]
        }
      ]
    },
    {
      "cell_type": "markdown",
      "source": [
        "Write a Python program that uses the `filter()` function to select even numbers from a list of integers.\n"
      ],
      "metadata": {
        "id": "Ayn4B8ubW90c"
      }
    },
    {
      "cell_type": "code",
      "source": [
        "def is_even(num):\n",
        "  return num % 2 == 0\n",
        "\n",
        "numbers = [1, 2, 3, 4, 5, 6, 7, 8, 9, 10]\n",
        "even_numbers = filter(is_even, numbers)\n",
        "even_numbers_list = list(even_numbers)\n",
        "print(even_numbers_list)"
      ],
      "metadata": {
        "colab": {
          "base_uri": "https://localhost:8080/"
        },
        "id": "CjXrRaaYW_mO",
        "outputId": "a1946f0c-f10a-4751-ce21-40ee82e9a37e"
      },
      "execution_count": null,
      "outputs": [
        {
          "output_type": "stream",
          "name": "stdout",
          "text": [
            "[2, 4, 6, 8, 10]\n"
          ]
        }
      ]
    },
    {
      "cell_type": "markdown",
      "source": [
        "Create a Python program that uses the `filter()` function to select names that start with a specific letter from a list of strings.\n"
      ],
      "metadata": {
        "id": "gW44Z0OCW_5f"
      }
    },
    {
      "cell_type": "code",
      "source": [
        "names = [\"Alice\", \"Bob\", \"Charlie\", \"David\", \"Eve\", \"Frank\"]\n",
        "\n",
        "# Define a function to filter names starting with a specific letter\n",
        "def starts_with_letter(name, letter):\n",
        "    return name.startswith(letter)\n",
        "\n",
        "letter = input(\"Enter a letter to filter names: \")\n",
        "\n",
        "# Use filter() to select names starting with the specified letter\n",
        "selected_names = filter(lambda name : starts_with_letter(name, letter),names)\n",
        "\n",
        "selected_name_list = list(selected_names)\n",
        "print(\"Names starting with letter\", letter + \":\", selected_name_list)\n"
      ],
      "metadata": {
        "colab": {
          "base_uri": "https://localhost:8080/"
        },
        "id": "RTWsDMLRXBYS",
        "outputId": "e7e82f21-215e-47ed-f845-98f12c5a29cb"
      },
      "execution_count": null,
      "outputs": [
        {
          "output_type": "stream",
          "name": "stdout",
          "text": [
            "Enter a letter to filter names: B\n",
            "Names starting with letter B: ['Bob']\n"
          ]
        }
      ]
    },
    {
      "cell_type": "markdown",
      "source": [
        "Write a Python program that uses the `filter()` function to select prime numbers from a list of integers.\n"
      ],
      "metadata": {
        "id": "MK670qylXCVI"
      }
    },
    {
      "cell_type": "code",
      "source": [
        "def is_prime(num):\n",
        "    if num <= 1:\n",
        "        return False\n",
        "    for i in range(2, int(num ** 0.5) + 1):\n",
        "        if num % i == 0:\n",
        "            return False\n",
        "    return True\n",
        "\n",
        "numbers = [2, 3, 4, 5, 6, 7, 8, 9, 10, 11, 12, 13, 14, 15]\n",
        "\n",
        "prime_numbers = filter(is_prime, numbers)\n",
        "prime_numbers_list = list(prime_numbers)\n",
        "print(\"Prime numbers:\", prime_numbers_list)"
      ],
      "metadata": {
        "colab": {
          "base_uri": "https://localhost:8080/"
        },
        "id": "e0HYyY7tXD4v",
        "outputId": "251ec0b8-a862-497a-c11c-de2c21955273"
      },
      "execution_count": null,
      "outputs": [
        {
          "output_type": "stream",
          "name": "stdout",
          "text": [
            "Prime numbers: [2, 3, 5, 7, 11, 13]\n"
          ]
        }
      ]
    },
    {
      "cell_type": "markdown",
      "source": [
        "How can you use the `filter()` function to remove None values from a list in Python?\n"
      ],
      "metadata": {
        "id": "CjiSQXMkXEKk"
      }
    },
    {
      "cell_type": "code",
      "source": [
        "values = [1, None, 3, None, 5, None, 7, None, 9]\n",
        "\n",
        "# Use filter() to remove None values from the list\n",
        "filtered_values = filter(lambda x: x is not None, values)\n",
        "\n",
        "# Convert the filter object to a list to see the result\n",
        "filtered_values_list = list(filtered_values)\n",
        "\n",
        "# Print the filtered values\n",
        "print(\"Filtered values:\", filtered_values_list)\n"
      ],
      "metadata": {
        "colab": {
          "base_uri": "https://localhost:8080/"
        },
        "id": "Z3kEHQmhXFnH",
        "outputId": "99be0dd6-ba55-4084-cee3-43f9a3a3e5b5"
      },
      "execution_count": null,
      "outputs": [
        {
          "output_type": "stream",
          "name": "stdout",
          "text": [
            "Filtered values: [1, 3, 5, 7, 9]\n"
          ]
        }
      ]
    },
    {
      "cell_type": "markdown",
      "source": [
        "Create a Python program that uses `filter()` to select words longer than a certain length from a list of strings."
      ],
      "metadata": {
        "id": "HRFJBogVXF2F"
      }
    },
    {
      "cell_type": "code",
      "source": [
        "# List of strings\n",
        "words = [\"apple\", \"banana\", \"orange\", \"kiwi\", \"grapefruit\", \"pineapple\"]\n",
        "\n",
        "# Define a function to filter words longer than a certain length\n",
        "def longer_than_length(word, length):\n",
        "    return len(word) > length\n",
        "\n",
        "# Input length\n",
        "length = int(input(\"Enter the minimum length of words to filter: \"))\n",
        "\n",
        "# Use filter() to select words longer than the specified length\n",
        "selected_words = filter(lambda word: longer_than_length(word, length), words)\n",
        "\n",
        "# Convert the filter object to a list to see the result\n",
        "selected_words_list = list(selected_words)\n",
        "\n",
        "# Print the selected words\n",
        "print(\"Words longer than length\", length, \":\", selected_words_list)\n"
      ],
      "metadata": {
        "colab": {
          "base_uri": "https://localhost:8080/"
        },
        "id": "DEjGhYY3XGxl",
        "outputId": "645a1524-09b7-44b8-b91e-327e94750a9c"
      },
      "execution_count": null,
      "outputs": [
        {
          "output_type": "stream",
          "name": "stdout",
          "text": [
            "Enter the minimum length of words to filter: 5\n",
            "Words longer than length 5 : ['banana', 'orange', 'grapefruit', 'pineapple']\n"
          ]
        }
      ]
    },
    {
      "cell_type": "markdown",
      "source": [
        "Write a Python program that uses the `filter()` function to select elements greater than a specified threshold from a list of values."
      ],
      "metadata": {
        "id": "VK-pcsNobI-S"
      }
    },
    {
      "cell_type": "code",
      "source": [
        "# List of values\n",
        "values = [10, 20, 30, 40, 50, 60, 70, 80, 90, 100]\n",
        "\n",
        "# Define a function to filter elements greater than a specified threshold\n",
        "def greater_than_threshold(value, threshold):\n",
        "    return value > threshold\n",
        "\n",
        "# Input threshold\n",
        "threshold = int(input(\"Enter the threshold value: \"))\n",
        "\n",
        "# Use filter() to select elements greater than the specified threshold\n",
        "selected_values = filter(lambda value: greater_than_threshold(value, threshold), values)\n",
        "\n",
        "# Convert the filter object to a list to see the result\n",
        "selected_values_list = list(selected_values)\n",
        "\n",
        "# Print the selected values\n",
        "print(\"Values greater than\", threshold, \":\", selected_values_list)\n"
      ],
      "metadata": {
        "colab": {
          "base_uri": "https://localhost:8080/"
        },
        "id": "C9hHXU8KbNTb",
        "outputId": "76117fc5-38b3-4763-ef54-8b744db93976"
      },
      "execution_count": null,
      "outputs": [
        {
          "output_type": "stream",
          "name": "stdout",
          "text": [
            "Enter the threshold value: 23\n",
            "Values greater than 23 : [30, 40, 50, 60, 70, 80, 90, 100]\n"
          ]
        }
      ]
    },
    {
      "cell_type": "markdown",
      "source": [
        "#Recursion:-\n",
        "\n",
        "- Explain the concept of recursion in Python. How does it differ from iteration?\n",
        "\n",
        "\n"
      ],
      "metadata": {
        "id": "DkckZDA4bYQy"
      }
    },
    {
      "cell_type": "markdown",
      "source": [
        "- Key Differences Between Recursion and Iteration? Recursion is a technique in which the function calls itself in its body to solve the problem, typically breaking into smaller and more manageable sub-problems. In contrast, Iteration is a technique that repetitively executes a code block until the condition is unmet.\n",
        "-Recursion in Python is a programming technique where a function calls itself to solve smaller instances of the same problem. Instead of using explicit loops like in iteration, recursion relies on the function's ability to call itself, often with modified arguments, until a base case is reached.\n",
        "\n"
      ],
      "metadata": {
        "id": "PFpIaZ0ueqoB"
      }
    },
    {
      "cell_type": "code",
      "source": [
        "def factorial(n):\n",
        "  if n == 0:\n",
        "    return 1\n",
        "  else:\n",
        "    return n * factorial(n - 1)\n",
        "num = int(input(\"Enter the number : \"))\n",
        "factorial = factorial(num)\n",
        "print(factorial)"
      ],
      "metadata": {
        "colab": {
          "base_uri": "https://localhost:8080/"
        },
        "id": "fazvTVMNbnpy",
        "outputId": "5011d88c-6132-47d0-ef7d-5f40b02afe03"
      },
      "execution_count": null,
      "outputs": [
        {
          "output_type": "stream",
          "name": "stdout",
          "text": [
            "Enter the number : 5\n",
            "120\n"
          ]
        }
      ]
    },
    {
      "cell_type": "markdown",
      "source": [
        "Write a Python program to calculate the factorial of a number using recursion.\n"
      ],
      "metadata": {
        "id": "3maQuLEOboEF"
      }
    },
    {
      "cell_type": "code",
      "source": [
        "def factorial(n):\n",
        "  if n == 0:\n",
        "    return 1\n",
        "  else:\n",
        "    return n * factorial(n - 1)\n",
        "num = int(input(\"Enter the number : \"))\n",
        "factorial = factorial(num)\n",
        "print(factorial)"
      ],
      "metadata": {
        "colab": {
          "base_uri": "https://localhost:8080/"
        },
        "id": "nO64Mdbxed6p",
        "outputId": "876d3774-292b-411a-8996-8ccc80e0d67d"
      },
      "execution_count": null,
      "outputs": [
        {
          "output_type": "stream",
          "name": "stdout",
          "text": [
            "Enter the number : 8\n",
            "40320\n"
          ]
        }
      ]
    },
    {
      "cell_type": "markdown",
      "source": [
        "Create a recursive Python function to find the nth Fibonacci number.\n"
      ],
      "metadata": {
        "id": "nPuNViqHbqBD"
      }
    },
    {
      "cell_type": "code",
      "source": [
        "def fibonacci(n):\n",
        "    # Base cases for the first two Fibonacci numbers\n",
        "    if n == 0:\n",
        "        return 0\n",
        "    elif n == 1:\n",
        "        return 1\n",
        "    # Recursive case: calculate the nth Fibonacci number\n",
        "    else:\n",
        "        return fibonacci(n - 1) + fibonacci(n - 2)\n",
        "\n",
        "# Test the function\n",
        "n = int(input(\"Enter the value of n: \"))\n",
        "result = fibonacci(n)\n",
        "print(\"The\", n, \"th Fibonacci number is:\", result)"
      ],
      "metadata": {
        "colab": {
          "base_uri": "https://localhost:8080/"
        },
        "id": "A7zB2AGNbpzB",
        "outputId": "07c35176-7696-4171-e037-92425ff53a98"
      },
      "execution_count": null,
      "outputs": [
        {
          "output_type": "stream",
          "name": "stdout",
          "text": [
            "Enter the value of n: 8\n",
            "The 8 th Fibonacci number is: 21\n"
          ]
        }
      ]
    },
    {
      "cell_type": "code",
      "source": [],
      "metadata": {
        "id": "q1YIKYe6brYl"
      },
      "execution_count": null,
      "outputs": []
    },
    {
      "cell_type": "markdown",
      "source": [
        "Write a recursive Python function to calculate the sum of all elements in a list.\n"
      ],
      "metadata": {
        "id": "AiStN5AKbrja"
      }
    },
    {
      "cell_type": "code",
      "source": [
        "def list_sum(lst):\n",
        "  if not lst:\n",
        "    return 0\n",
        "  else:\n",
        "    return lst[0] + list_sum(lst[1:])\n",
        "\n",
        "numbers = [1, 2, 3, 4, 5]\n",
        "result = list_sum(numbers)\n",
        "print(\"The sum of all elements in the list is:\", result)"
      ],
      "metadata": {
        "colab": {
          "base_uri": "https://localhost:8080/"
        },
        "id": "uzBpfsc0bsys",
        "outputId": "15598fae-bd0f-4e32-f05e-ac944bf27b93"
      },
      "execution_count": null,
      "outputs": [
        {
          "output_type": "stream",
          "name": "stdout",
          "text": [
            "The sum of all elements in the list is: 15\n"
          ]
        }
      ]
    },
    {
      "cell_type": "markdown",
      "source": [
        "How can you prevent a recursive function from running indefinitely, causing a stack overflow error?\n"
      ],
      "metadata": {
        "id": "AyMRaGoqbtKO"
      }
    },
    {
      "cell_type": "markdown",
      "source": [
        "- To prevent a recursive function from running indefinitely and causing a stack overflow error, we can ensure that the recursive calls eventually reach a base case. A base case is a condition where the function stops calling itself recursively and returns a result. Without a base case, the recursion would continue infinitely, consuming more stack space until it exceeds the maximum allowed stack size, resulting in a stack overflow error.\n",
        "- Here are some strategies to prevent infinite recursion and stack overflow errors:\n",
        "\n",
        "- Define Base Cases: Ensure that your recursive function has one or more base cases that specify conditions under which the function stops calling itself and returns a result.\n",
        "\n",
        "- Make Progress Toward Base Case: Ensure that each recursive call moves closer to a base case. This means that the input to the recursive calls should be getting closer to the base case with each recursive call.\n",
        "\n",
        "- Limit Recursion Depth: If possible, limit the maximum recursion depth by setting a maximum depth parameter or using iterative approaches for large inputs.\n",
        "\n",
        "- Test and Debug: Test your recursive function with various inputs to ensure that it terminates correctly and does not run into infinite recursion."
      ],
      "metadata": {
        "id": "Ccpeg5udhzp8"
      }
    },
    {
      "cell_type": "code",
      "source": [
        "def factorial(n):\n",
        "  if n == 0:\n",
        "    return 1\n",
        "  else:\n",
        "    return n * factorial(n - 1)\n",
        "num = int(input(\"Enter the number : \"))\n",
        "factorial = factorial(num)\n",
        "print(factorial)"
      ],
      "metadata": {
        "colab": {
          "base_uri": "https://localhost:8080/"
        },
        "id": "DUhCFi6Abvfa",
        "outputId": "c9025307-656b-455e-b37e-dce1d014a1a8"
      },
      "execution_count": null,
      "outputs": [
        {
          "output_type": "stream",
          "name": "stdout",
          "text": [
            "Enter the number : 9\n",
            "362880\n"
          ]
        }
      ]
    },
    {
      "cell_type": "markdown",
      "source": [
        "Create a recursive Python function to find the greatest common divisor (GCD) of two numbers using the Euclidean algorithm.\n"
      ],
      "metadata": {
        "id": "ToV2vStUbvqw"
      }
    },
    {
      "cell_type": "code",
      "source": [
        "def gcd(a, b):\n",
        "    # Base case: if b is 0, return a (the GCD)\n",
        "    if b == 0:\n",
        "        return a\n",
        "    # Recursive case: call gcd with b and the remainder of a divided by b\n",
        "    else:\n",
        "        return gcd(b, a % b)\n",
        "\n",
        "# Test the function\n",
        "num1 = int(input(\"Enter the first number: \"))\n",
        "num2 = int(input(\"Enter the second number: \"))\n",
        "\n",
        "result = gcd(num1, num2)\n",
        "print(\"The greatest common divisor (GCD) of\", num1, \"and\", num2, \"is:\", result)\n"
      ],
      "metadata": {
        "colab": {
          "base_uri": "https://localhost:8080/"
        },
        "id": "sIxc3yy7bxKw",
        "outputId": "4284047c-4758-45c6-d2f3-4b375989e560"
      },
      "execution_count": null,
      "outputs": [
        {
          "output_type": "stream",
          "name": "stdout",
          "text": [
            "Enter the first number: 5\n",
            "Enter the second number: 7\n",
            "The greatest common divisor (GCD) of 5 and 7 is: 1\n"
          ]
        }
      ]
    },
    {
      "cell_type": "markdown",
      "source": [
        "Write a recursive Python function to reverse a string.\n"
      ],
      "metadata": {
        "id": "J-94hIJ7bxXm"
      }
    },
    {
      "cell_type": "code",
      "source": [
        "def reverse_string(s):\n",
        "    # Base case: if the string has length 0 or 1, return the string itself\n",
        "    if len(s) <= 1:\n",
        "        return s\n",
        "    # Recursive case: return the last character of the string concatenated with the reverse of the substring excluding the last character\n",
        "    else:\n",
        "        return s[-1] + reverse_string(s[:-1])\n",
        "\n",
        "# Test the function\n",
        "input_string = input(\"Enter a string to reverse: \")\n",
        "reversed_string = reverse_string(input_string)\n",
        "print(\"Reversed string:\", reversed_string)\n"
      ],
      "metadata": {
        "colab": {
          "base_uri": "https://localhost:8080/"
        },
        "id": "oNZANnp3bzao",
        "outputId": "3d0c47d7-1249-4378-9703-89373e37b748"
      },
      "execution_count": null,
      "outputs": [
        {
          "output_type": "stream",
          "name": "stdout",
          "text": [
            "Enter a string to reverse: bob\n",
            "Reversed string: bob\n"
          ]
        }
      ]
    },
    {
      "cell_type": "markdown",
      "source": [
        "Write a recursive Python function to find all permutations of a given string.\n"
      ],
      "metadata": {
        "id": "Iph47EdBbzmZ"
      }
    },
    {
      "cell_type": "code",
      "source": [
        "def permutations(s):\n",
        "  if len(s) <= 1:\n",
        "    return [s]\n",
        "  else:\n",
        "    # Initialize an empty list to store permutations\n",
        "    perms = []\n",
        "\n",
        "    for i in range(len(s)):\n",
        "\n",
        "      current_char = s[i]\n",
        "      # Generate all permutations of the string excluding the current character\n",
        "      remaining_chars = s[:i] + s[i+1:]\n",
        "      subperms = permutations(remaining_chars)\n",
        "\n",
        "      # Append the current character to each permutation of the remaining characters\n",
        "      for subperm in subperms:\n",
        "        perms.append(current_char + subperm)\n",
        "  return perms\n",
        "\n",
        "input_string = input(\"Enter a string: \")\n",
        "all_perms = permutations(input_string)\n",
        "print(\"All permutations of\", input_string, \"are:\", all_perms)\n",
        "print(len(all_perms))\n",
        "\n"
      ],
      "metadata": {
        "colab": {
          "base_uri": "https://localhost:8080/"
        },
        "id": "VXw8OTfgb3qQ",
        "outputId": "a4aa5894-f783-430f-d990-fb5645392f63"
      },
      "execution_count": null,
      "outputs": [
        {
          "output_type": "stream",
          "name": "stdout",
          "text": [
            "Enter a string: happy\n",
            "All permutations of happy are: ['happy', 'hapyp', 'happy', 'hapyp', 'haypp', 'haypp', 'hpapy', 'hpayp', 'hppay', 'hppya', 'hpyap', 'hpypa', 'hpapy', 'hpayp', 'hppay', 'hppya', 'hpyap', 'hpypa', 'hyapp', 'hyapp', 'hypap', 'hyppa', 'hypap', 'hyppa', 'ahppy', 'ahpyp', 'ahppy', 'ahpyp', 'ahypp', 'ahypp', 'aphpy', 'aphyp', 'apphy', 'appyh', 'apyhp', 'apyph', 'aphpy', 'aphyp', 'apphy', 'appyh', 'apyhp', 'apyph', 'ayhpp', 'ayhpp', 'ayphp', 'aypph', 'ayphp', 'aypph', 'phapy', 'phayp', 'phpay', 'phpya', 'phyap', 'phypa', 'pahpy', 'pahyp', 'paphy', 'papyh', 'payhp', 'payph', 'pphay', 'pphya', 'ppahy', 'ppayh', 'ppyha', 'ppyah', 'pyhap', 'pyhpa', 'pyahp', 'pyaph', 'pypha', 'pypah', 'phapy', 'phayp', 'phpay', 'phpya', 'phyap', 'phypa', 'pahpy', 'pahyp', 'paphy', 'papyh', 'payhp', 'payph', 'pphay', 'pphya', 'ppahy', 'ppayh', 'ppyha', 'ppyah', 'pyhap', 'pyhpa', 'pyahp', 'pyaph', 'pypha', 'pypah', 'yhapp', 'yhapp', 'yhpap', 'yhppa', 'yhpap', 'yhppa', 'yahpp', 'yahpp', 'yaphp', 'yapph', 'yaphp', 'yapph', 'yphap', 'yphpa', 'ypahp', 'ypaph', 'yppha', 'yppah', 'yphap', 'yphpa', 'ypahp', 'ypaph', 'yppha', 'yppah']\n",
            "120\n"
          ]
        }
      ]
    },
    {
      "cell_type": "code",
      "source": [],
      "metadata": {
        "id": "S5UnkB-4k7wm"
      },
      "execution_count": null,
      "outputs": []
    },
    {
      "cell_type": "markdown",
      "source": [
        "Create a recursive Python function to calculate the power of a number (x^n).\n"
      ],
      "metadata": {
        "id": "rANlKeYQbzqT"
      }
    },
    {
      "cell_type": "code",
      "source": [
        "def power(x, n):\n",
        "  if n == 0:\n",
        "    return 1\n",
        "  elif n > 0:\n",
        "    return x * power(x, n - 1)\n",
        "  else:\n",
        "    return 1 / power(x, -n)\n",
        "\n",
        "x = float(input(\"Enter the base number (x): \"))\n",
        "n = int(input(\"Enter the exponent (n): \"))\n",
        "\n",
        "result = power(x, n)\n",
        "print(\"Result:\", result)"
      ],
      "metadata": {
        "colab": {
          "base_uri": "https://localhost:8080/"
        },
        "id": "xYtkAZQOb4oM",
        "outputId": "ad56fb5f-1253-4a3b-d172-9bcdb753ee19"
      },
      "execution_count": null,
      "outputs": [
        {
          "output_type": "stream",
          "name": "stdout",
          "text": [
            "Enter the base number (x): 76\n",
            "Enter the exponent (n): 2\n",
            "Result: 5776.0\n"
          ]
        }
      ]
    },
    {
      "cell_type": "markdown",
      "source": [
        "Write a recursive Python function to check if a string is a palindrome.\n"
      ],
      "metadata": {
        "id": "WiPtgLkEb5M8"
      }
    },
    {
      "cell_type": "code",
      "source": [
        "def is_palindrome(s):\n",
        "    # Base case: if the string has length 0 or 1, it's a palindrome\n",
        "    if len(s) <= 1:\n",
        "        return True\n",
        "    # Recursive case: check if the first and last characters are equal, then check if the substring excluding the first and last characters is a palindrome\n",
        "    else:\n",
        "        return s[0] == s[-1] and is_palindrome(s[1:-1])\n",
        "\n",
        "# Test the function\n",
        "input_string = input(\"Enter a string: \")\n",
        "if is_palindrome(input_string):\n",
        "    print(input_string, \"is a palindrome.\")\n",
        "else:\n",
        "    print(input_string, \"is not a palindrome.\")\n",
        "\n"
      ],
      "metadata": {
        "colab": {
          "base_uri": "https://localhost:8080/"
        },
        "id": "4LURrUbub6py",
        "outputId": "f82d430f-cb1d-44c6-8b05-ebdb082a73dd"
      },
      "execution_count": null,
      "outputs": [
        {
          "output_type": "stream",
          "name": "stdout",
          "text": [
            "Enter a string: bob\n",
            "bob is a palindrome.\n"
          ]
        }
      ]
    },
    {
      "cell_type": "markdown",
      "source": [
        "Create a recursive Python function to generate all possible combinations of a list of elements.\n"
      ],
      "metadata": {
        "id": "Bd9b-LOcb7N2"
      }
    },
    {
      "cell_type": "code",
      "source": [
        "def combination(lst):\n",
        "  if not lst:\n",
        "    return [[]]\n",
        "  else:\n",
        "    # Recursive case: generate combinations excluding the first element, and combine it with each combination including the first element\n",
        "    head = lst[0]\n",
        "    tail = lst[1:]\n",
        "    without_head = combination(tail)\n",
        "    with_head = [[head] + comb for comb in without_head]\n",
        "    return without_head + with_head\n",
        "\n",
        "input_list = input(\"Enter a list of elements separated by spaces: \").split()\n",
        "all_combinations = combination(input_list)\n",
        "print(\"All possible combinations of\", input_list, \"are:\")\n",
        "for combination in all_combinations:\n",
        "    print(combination)\n"
      ],
      "metadata": {
        "colab": {
          "base_uri": "https://localhost:8080/"
        },
        "id": "h-RfYPtKb8aj",
        "outputId": "e4f923fa-7f2d-45a8-c401-5d0a34eef3bd"
      },
      "execution_count": null,
      "outputs": [
        {
          "output_type": "stream",
          "name": "stdout",
          "text": [
            "Enter a list of elements separated by spaces: happy bithday        !\n",
            "All possible combinations of ['happy', 'bithday', '!'] are:\n",
            "[]\n",
            "['!']\n",
            "['bithday']\n",
            "['bithday', '!']\n",
            "['happy']\n",
            "['happy', '!']\n",
            "['happy', 'bithday']\n",
            "['happy', 'bithday', '!']\n"
          ]
        }
      ]
    },
    {
      "cell_type": "markdown",
      "source": [
        "\n",
        "# Basics of Functions:\n",
        "\n",
        "- What is a function in Python, and why is it used?\n"
      ],
      "metadata": {
        "id": "CaLxA5qKpQSa"
      }
    },
    {
      "cell_type": "markdown",
      "source": [
        "- a function is a block of reusable code that performs a specific task or set of tasks. Functions allow you to organize code into logical units, making it easier to read, understand, and maintain. They promote code reusability, reduce duplication, and improve modularity.\n",
        "- Modularity: Functions allow you to break down a complex problem into smaller, more manageable parts. Each function can perform a specific task, and by combining multiple functions together, you can solve larger problems more easily.\n",
        "- Code Reusability: Once defined, functions can be called multiple times from different parts of your program. This reduces code duplication and promotes a more efficient and DRY (Don't Repeat Yourself) coding style.\n",
        "- Abstraction: Functions abstract away the implementation details of a specific task, providing a higher-level interface for interacting with your code. This makes it easier to understand and work with complex systems by hiding unnecessary details.\n",
        "- Encapsulation: Functions encapsulate a set of operations into a single entity. This helps in managing complexity and prevents the pollution of the global namespace by keeping variables and operations local to the function.\n",
        "- Readability and Maintainability: By organizing code into functions, you can improve the readability and maintainability of your codebase. Functions with descriptive names provide self-documentation, making it easier for other developers (including your future self) to understand the purpose and functionality of each piece of code.\n",
        "\n",
        "- Code Testing: Functions facilitate unit testing by allowing you to test individual components of your code in isolation. This makes it easier to identify and fix bugs, improve code quality, and ensure that your program behaves as expected."
      ],
      "metadata": {
        "id": "HqrsOinwqG48"
      }
    },
    {
      "cell_type": "markdown",
      "source": [
        "2. How do you define a function in Python? Provide an example.\n"
      ],
      "metadata": {
        "id": "46vid0tJpYD6"
      }
    },
    {
      "cell_type": "markdown",
      "source": [
        "- In Python, you can define a function using the def keyword followed by the function name, a pair of parentheses (), and a colon :. Any code inside the function is indented and considered part of the function block.\n",
        "- ex: def function_name(parameters):\n"
      ],
      "metadata": {
        "id": "9SLPhXCVrI8M"
      }
    },
    {
      "cell_type": "code",
      "source": [
        "def add_numbers(a, b):\n",
        "    # Function body\n",
        "    result = a + b\n",
        "    return result\n",
        "sum_result  = add_numbers(3, 5)\n",
        "print(\"The sum of 3 & t is: \", sum_result)"
      ],
      "metadata": {
        "colab": {
          "base_uri": "https://localhost:8080/"
        },
        "id": "Gc5B2KwUpb30",
        "outputId": "8500dc54-64d9-43a2-cb3e-3f4937e8bf22"
      },
      "execution_count": null,
      "outputs": [
        {
          "output_type": "stream",
          "name": "stdout",
          "text": [
            "The sum of 3 & t is:  8\n"
          ]
        }
      ]
    },
    {
      "cell_type": "markdown",
      "source": [
        "- 3.Explain the difference between a function definition and a function call.\n"
      ],
      "metadata": {
        "id": "NPXq58sJpcRu"
      }
    },
    {
      "cell_type": "markdown",
      "source": [
        "- Function Definition:\n",
        "\n",
        "- A function definition is the process of creating a function in Python.\n",
        "It involves using the def keyword followed by the function name, a pair of parentheses (), and a colon :, followed by the function body.\n",
        "Inside the function body, you write the code that defines what the function does when called.\n",
        "- The function definition defines the structure, behavior, and functionality of the function, but it does not execute the code inside the function body.\n",
        "Function definitions typically occur at the top level of a Python script or within a module.\n",
        "\n",
        "- Function Call:\n",
        "\n",
        "- A function call is the process of using a defined function within our Python code to execute the code inside its function body.\n",
        "- It involves using the function name followed by parentheses () and passing any required arguments inside the parentheses.\n",
        "- When a function call is encountered, the Python interpreter executes the code inside the corresponding function definition with the provided arguments.\n",
        "- Function calls cause the execution of the function's code, which may perform various operations and return a result.\n",
        "- Function calls are typically used within the main body of a Python script, inside other functions, or within conditional statements or loops."
      ],
      "metadata": {
        "id": "P5t598hcrzdG"
      }
    },
    {
      "cell_type": "code",
      "source": [
        "# fuction definition\n",
        "def add_numbers(a, b):\n",
        "    # Function body\n",
        "    result = a + b\n",
        "    return result\n",
        "# Function call to the add_numbers function\n",
        "sum_result = add_numbers(3, 5)\n"
      ],
      "metadata": {
        "id": "tmRocc4lpWxD"
      },
      "execution_count": null,
      "outputs": []
    },
    {
      "cell_type": "markdown",
      "source": [
        "\n",
        "- 4.Write a Python program that defines a function to calculate the sum of two numbers and then calls the function.\n"
      ],
      "metadata": {
        "id": "QwSkALRypsdM"
      }
    },
    {
      "cell_type": "code",
      "source": [
        "def calculate_sum(a, b):\n",
        "  result = a + b\n",
        "  return result\n",
        "num1 = 3\n",
        "num2 =5\n",
        "sum_result = calculate_sum(num1, num2)\n",
        "print(\"The sum of\", num1, \"and\", num2, \"is:\", sum_result)"
      ],
      "metadata": {
        "colab": {
          "base_uri": "https://localhost:8080/"
        },
        "id": "4xptbXajp6xO",
        "outputId": "c0f04e4b-51f3-4962-88cd-332b38f88ff1"
      },
      "execution_count": null,
      "outputs": [
        {
          "output_type": "stream",
          "name": "stdout",
          "text": [
            "The sum of 3 and 5 is: 8\n"
          ]
        }
      ]
    },
    {
      "cell_type": "markdown",
      "source": [
        "- 5.What is a function signature, and what information does it typically include?"
      ],
      "metadata": {
        "id": "hvJnFQy9pyrj"
      }
    },
    {
      "cell_type": "markdown",
      "source": [
        "- A function signature is a concise summary of a function's interface, providing important information about the function's name, parameters, return type, and optionally its exceptions. It serves as documentation for the function's purpose and usage without revealing its implementation details. The function signature typically includes the following information:\n",
        "\n",
        "- Function Name: The name of the function, which uniquely identifies it within the program. It should be descriptive and convey the function's purpose.\n",
        "\n",
        "- Parameters: The parameters or arguments accepted by the function, including their names and types. This specifies the data that the function operates on. Parameters may be optional or have default values.\n",
        "\n",
        "- Return Type: The type of data that the function returns after completing its operation. If a function doesn't return anything, its return type is usually specified as void or omitted altogether.\n",
        "\n",
        "- Exceptions: Any exceptions or errors that the function may raise during its execution. This includes both built-in exceptions and custom exceptions defined by the function."
      ],
      "metadata": {
        "id": "M6aXScCcta-t"
      }
    },
    {
      "cell_type": "code",
      "source": [],
      "metadata": {
        "id": "AvCN767zo5_U"
      },
      "execution_count": null,
      "outputs": []
    },
    {
      "cell_type": "markdown",
      "source": [
        "- 6.Create a Python function that takes two arguments and returns their product."
      ],
      "metadata": {
        "id": "XERkxrcKp8bt"
      }
    },
    {
      "cell_type": "code",
      "source": [
        "def product(a, b):\n",
        "    \"\"\"\n",
        "    Calculate the product of two numbers.\n",
        "\n",
        "    Parameters:\n",
        "    a (int or float): The first number.\n",
        "    b (int or float): The second number.\n",
        "\n",
        "    Returns:\n",
        "    int or float: The product of the two numbers.\n",
        "    \"\"\"\n",
        "    return a * b\n",
        "\n",
        "# Test the function\n",
        "num1 = 3\n",
        "num2 = 5\n",
        "result = product(num1, num2)\n",
        "print(\"The product of\", num1, \"and\", num2, \"is:\", result)\n"
      ],
      "metadata": {
        "colab": {
          "base_uri": "https://localhost:8080/"
        },
        "id": "uFYJJaDPp9Kw",
        "outputId": "3442e4a4-3e7f-44b6-b90f-04820a0e5b8a"
      },
      "execution_count": null,
      "outputs": [
        {
          "output_type": "stream",
          "name": "stdout",
          "text": [
            "The product of 3 and 5 is: 15\n"
          ]
        }
      ]
    },
    {
      "cell_type": "markdown",
      "source": [
        "# Function Parameters and Arguments:\n",
        "\n",
        "- Q. Explain the concepts of formal parameters and actual arguments in Python functions.\n"
      ],
      "metadata": {
        "id": "1Nx8qr2XuL_r"
      }
    },
    {
      "cell_type": "markdown",
      "source": [
        "- Formal Parameters:\n",
        "\n",
        "- Formal parameters are placeholders for the values that a function expects to receive when it is called.\n",
        "- They are specified in the function definition within the parentheses following the function name.\n",
        "- Formal parameters act as local variables within the function body, representing the values passed to the function during its invocation.\n",
        "- These parameters are used to define the interface of the function, specifying the data that the function operates on.\n",
        "- Formal parameters allow functions to be flexible and reusable, as they can accept different values each time they are called."
      ],
      "metadata": {
        "id": "6RoSDCqIvjdA"
      }
    },
    {
      "cell_type": "code",
      "source": [
        "#example\n",
        "def add_numbers(x, y):\n",
        "    return x + y"
      ],
      "metadata": {
        "id": "gXzveONTuSRR"
      },
      "execution_count": null,
      "outputs": []
    },
    {
      "cell_type": "markdown",
      "source": [
        "# Actual Arguments:\n",
        "\n",
        "- Actual arguments are the values that are passed to a function when it is called.\n",
        "- They are provided in the function call within the parentheses following the function name.\n",
        "- Actual arguments are used to supply specific data to the function for processing.\n",
        "- These values can be literals, variables, expressions, or even the result of other function calls.\n",
        "- Actual arguments are matched with formal parameters based on their order in the function call or by using keyword arguments."
      ],
      "metadata": {
        "id": "K_vl68hgwAl1"
      }
    },
    {
      "cell_type": "code",
      "source": [
        "#example\n",
        "result = add_numbers(3, 5)\n"
      ],
      "metadata": {
        "id": "h8wlfbFrwWmn"
      },
      "execution_count": null,
      "outputs": []
    },
    {
      "cell_type": "markdown",
      "source": [
        "Q. Write a Python program that defines a function with default argument values.\n"
      ],
      "metadata": {
        "id": "YR0y_S2wuSsa"
      }
    },
    {
      "cell_type": "code",
      "source": [
        "def greet(name=\"Guest\"):\n",
        "    \"\"\"\n",
        "    Greet a person with a default message.\n",
        "\n",
        "    Parameters:\n",
        "    name (str): The name of the person to greet. Defaults to \"Guest\".\n",
        "    \"\"\"\n",
        "    print(\"Hello,\", name, \"! Welcome!\")\n",
        "\n",
        "# Call the function with the default argument value\n",
        "greet()\n",
        "\n",
        "# Call the function with a specified argument value\n",
        "greet(\"John\")\n"
      ],
      "metadata": {
        "colab": {
          "base_uri": "https://localhost:8080/"
        },
        "id": "S-UyUUywuTyH",
        "outputId": "737a9990-fefe-46b4-c87d-14050ad64816"
      },
      "execution_count": null,
      "outputs": [
        {
          "output_type": "stream",
          "name": "stdout",
          "text": [
            "Hello, Guest ! Welcome!\n",
            "Hello, John ! Welcome!\n"
          ]
        }
      ]
    },
    {
      "cell_type": "markdown",
      "source": [
        "How do you use keyword arguments in Python function calls? Provide an example.\n",
        "\n"
      ],
      "metadata": {
        "id": "o8ViGhemuUJC"
      }
    },
    {
      "cell_type": "markdown",
      "source": [
        "we can use keyword arguments in function calls to specify the values of parameters by their names, rather than their positions. This allows you to provide arguments in any order and makes function calls more readable and self-documenting."
      ],
      "metadata": {
        "id": "5-cZSq9aw_oe"
      }
    },
    {
      "cell_type": "code",
      "source": [
        "def greet(name, message):\n",
        "\n",
        "    print(\"Hello,\", name + \"!\", message)\n",
        "\n",
        "# Call the function with keyword arguments\n",
        "greet(name=\"John\", message=\"Welcome!\")\n"
      ],
      "metadata": {
        "colab": {
          "base_uri": "https://localhost:8080/"
        },
        "id": "yvXtSsJouXIe",
        "outputId": "f6f0e6ae-ea4a-47d4-85f8-0be89b1d6580"
      },
      "execution_count": null,
      "outputs": [
        {
          "output_type": "stream",
          "name": "stdout",
          "text": [
            "Hello, John! Welcome!\n"
          ]
        }
      ]
    },
    {
      "cell_type": "markdown",
      "source": [
        "Q.Create a Python function that accepts a variable number of arguments and calculates their sum.\n"
      ],
      "metadata": {
        "id": "Se0E_hEeucce"
      }
    },
    {
      "cell_type": "code",
      "source": [
        "def calculate_sum(*args):\n",
        "    \"\"\"\n",
        "    Calculate the sum of a variable number of arguments.\n",
        "\n",
        "    Parameters:\n",
        "    *args (float or int): The numbers to sum.\n",
        "\n",
        "    Returns:\n",
        "    float or int: The sum of the numbers.\n",
        "    \"\"\"\n",
        "    return sum(args)\n",
        "\n",
        "# Test the function\n",
        "result = calculate_sum(1, 2, 3, 4, 5)\n",
        "print(\"Sum:\", result)\n"
      ],
      "metadata": {
        "colab": {
          "base_uri": "https://localhost:8080/"
        },
        "id": "EiRojD5_ueKi",
        "outputId": "e6e152e9-7896-41be-a9dd-fddb30bedd5b"
      },
      "execution_count": null,
      "outputs": [
        {
          "output_type": "stream",
          "name": "stdout",
          "text": [
            "Sum: 15\n"
          ]
        }
      ]
    },
    {
      "cell_type": "markdown",
      "source": [
        "Q. What is the purpose of the `*args` and `**kwargs` syntax in function parameter lists?"
      ],
      "metadata": {
        "id": "585Fhhazuf22"
      }
    },
    {
      "cell_type": "markdown",
      "source": [
        "- The *args and **kwargs syntax in function parameter lists in Python allow you to accept a variable number of positional arguments and keyword arguments, respectively. They provide flexibility in defining functions that can handle an arbitrary number of arguments without needing to specify them individually.\n",
        "# *args (Arbitrary Positional Arguments):\n",
        "\n",
        "- The *args syntax allows you to accept a variable number of positional arguments in a function.\n",
        "- It collects any additional positional arguments passed to the function into a tuple.\n",
        "- You can name the parameter *args (or any other name preceded by an asterisk *) to indicate that it represents a variable number of arguments.\n",
        "Inside the function body, you can iterate over the args tuple or pass it to other functions as needed.\n",
        "# **kwargs (Arbitrary Keyword Arguments):\n",
        "\n",
        "- The **kwargs syntax allows you to accept a variable number of keyword arguments in a function.\n",
        "- It collects any additional keyword arguments passed to the function into a dictionary.\n",
        "- We can name the parameter **kwargs (or any other name preceded by two asterisks **) to indicate that it represents a variable number of keyword arguments.\n",
        "- Inside the function body, you can access the values of the keyword arguments using their keys or pass the kwargs dictionary to other functions as needed.\n",
        "\n",
        "\n",
        "- Using *args and **kwargs provides flexibility and allows you to create functions that can handle a wide range of input scenarios. They are commonly used in situations where the number of arguments may vary or when you want to delegate handling of arguments to other functions."
      ],
      "metadata": {
        "id": "AIX3SoPExTlt"
      }
    },
    {
      "cell_type": "code",
      "source": [
        "def example_function(*args, **kwargs):\n",
        "    print(\"Positional arguments:\", args)\n",
        "    print(\"Keyword arguments:\", kwargs)\n",
        "\n",
        "# Call the function with various arguments\n",
        "example_function(1, 2, 3, name=\"John\", age=30)\n"
      ],
      "metadata": {
        "colab": {
          "base_uri": "https://localhost:8080/"
        },
        "id": "fXSobBU9yg2_",
        "outputId": "06b51818-fdae-48a0-fac8-699978518f20"
      },
      "execution_count": null,
      "outputs": [
        {
          "output_type": "stream",
          "name": "stdout",
          "text": [
            "Positional arguments: (1, 2, 3)\n",
            "Keyword arguments: {'name': 'John', 'age': 30}\n"
          ]
        }
      ]
    },
    {
      "cell_type": "markdown",
      "source": [
        "# Return Values and Scoping:\n",
        "\n",
        "- Q. Describe the role of the `return` statement in Python functions and provide examples.\n"
      ],
      "metadata": {
        "id": "pICbTgAIuitS"
      }
    },
    {
      "cell_type": "markdown",
      "source": [
        "- The Python return statement is a key component of functions and methods. You can use the return statement to make your functions send Python objects back to the caller code. These objects are known as the function's return value. You can use them to perform further computation in your programs.\n",
        "-"
      ],
      "metadata": {
        "id": "hxzs-65U3PR7"
      }
    },
    {
      "cell_type": "code",
      "source": [],
      "metadata": {
        "id": "9ubOVMGR3K2k"
      },
      "execution_count": null,
      "outputs": []
    },
    {
      "cell_type": "markdown",
      "source": [
        "- Q. Explain the concept of variable scope in Python, including local and global variables.\n",
        "\n"
      ],
      "metadata": {
        "id": "0iDKlpk6uqyP"
      }
    },
    {
      "cell_type": "markdown",
      "source": [
        "# Local Variables:\n",
        "\n",
        "- Local variables are defined within a function or a block of code and can only be accessed within that function or block.\n",
        "- They are created when the function is called and destroyed when the function exits.\n",
        "- Attempting to access a local variable from outside its scope will result in a NameError."
      ],
      "metadata": {
        "id": "-70fZibAfMxx"
      }
    },
    {
      "cell_type": "code",
      "source": [
        "def my_function():\n",
        "    x = 10  # This is a local variable\n",
        "    print(x)\n",
        "\n",
        "my_function()  # Output: 10\n",
        "# print(x)  # This would result in a NameError because x is not defined globally\n"
      ],
      "metadata": {
        "id": "AQJ5NvDSfocG"
      },
      "execution_count": null,
      "outputs": []
    },
    {
      "cell_type": "markdown",
      "source": [
        "Global Variables:\n",
        "\n",
        "- Global variables are defined outside of any function or block and can be accessed throughout the program.\n",
        "- They are accessible from any scope, including within functions.\n",
        "However, if a function tries to modify a global variable, it needs to explicitly declare the variable as global using the global keyword."
      ],
      "metadata": {
        "id": "p5y33yU0f3Wd"
      }
    },
    {
      "cell_type": "code",
      "source": [
        "y = 20  # This is a global variable\n",
        "\n",
        "def my_function():\n",
        "    global y  # Declare y as a global variable\n",
        "    y = y + 5  # Modify the global variable\n",
        "    print(y)\n",
        "\n",
        "my_function()  # Output: 25\n",
        "print(y)  # Output: 25\n"
      ],
      "metadata": {
        "id": "gnGnx3YPgHkY"
      },
      "execution_count": null,
      "outputs": []
    },
    {
      "cell_type": "markdown",
      "source": [
        "Q. Write a Python program that demonstrates the use of global variables within functions.\n"
      ],
      "metadata": {
        "id": "i_35QbWYusQR"
      }
    },
    {
      "cell_type": "code",
      "source": [
        "# Define a global variable\n",
        "global_var = 10\n",
        "\n",
        "# Define a function that modifies the global variable\n",
        "def modify_global():\n",
        "    global global_var  # Declare global_var as a global variable\n",
        "    global_var += 5     # Increment global_var by 5\n",
        "    print(\"Inside the function:\", global_var)\n",
        "\n",
        "# Define a function that accesses the global variable\n",
        "def access_global():\n",
        "    print(\"outside another function:\", global_var)\n",
        "\n",
        "# Call the functions\n",
        "modify_global()  # Output: Inside the function: 15\n",
        "access_global()  # Output: Inside another function: 15\n"
      ],
      "metadata": {
        "id": "9kQjFyFczZV2",
        "colab": {
          "base_uri": "https://localhost:8080/"
        },
        "outputId": "ef248354-0feb-45cb-842f-ea88bf302b46"
      },
      "execution_count": 2,
      "outputs": [
        {
          "output_type": "stream",
          "name": "stdout",
          "text": [
            "Inside the function: 15\n",
            "outside another function: 15\n"
          ]
        }
      ]
    },
    {
      "cell_type": "markdown",
      "source": [
        "Q. Create a Python function that calculates the factorial of a number and returns it.\n"
      ],
      "metadata": {
        "id": "-s0M3-QbutrX"
      }
    },
    {
      "cell_type": "code",
      "source": [
        "def factorial(n):\n",
        "    if n == 0:\n",
        "        return 1\n",
        "    else:\n",
        "        return n * factorial(n - 1)\n",
        "\n",
        "# Test the function\n",
        "number = 5\n",
        "result = factorial(number)\n",
        "print(f\"The factorial of {number} is: {result}\")\n"
      ],
      "metadata": {
        "colab": {
          "base_uri": "https://localhost:8080/"
        },
        "id": "CpMfML1Rg5bq",
        "outputId": "707c86b4-7f24-482e-a75b-addc74bb38cb"
      },
      "execution_count": 3,
      "outputs": [
        {
          "output_type": "stream",
          "name": "stdout",
          "text": [
            "The factorial of 5 is: 120\n"
          ]
        }
      ]
    },
    {
      "cell_type": "markdown",
      "source": [
        "Q.How can you access variables defined outside a function from within the function?"
      ],
      "metadata": {
        "id": "irdiMYN6uvLD"
      }
    },
    {
      "cell_type": "markdown",
      "source": [
        "To access variables defined outside a function from within the function, we can use the global keyword to declare the variable as global within the function."
      ],
      "metadata": {
        "id": "4V1askajhIrR"
      }
    },
    {
      "cell_type": "code",
      "source": [
        "x = 10  # Define a global variable\n",
        "\n",
        "def my_function():\n",
        "    global x  # Declare x as a global variable\n",
        "    print(\"Inside the function:\", x)\n",
        "\n",
        "# Call the function\n",
        "my_function()  # Output: Inside the function: 10\n"
      ],
      "metadata": {
        "colab": {
          "base_uri": "https://localhost:8080/"
        },
        "id": "8VLFXuxlhB0p",
        "outputId": "21577a48-e369-4af8-9acd-84920dd008b0"
      },
      "execution_count": 4,
      "outputs": [
        {
          "output_type": "stream",
          "name": "stdout",
          "text": [
            "Inside the function: 10\n"
          ]
        }
      ]
    },
    {
      "cell_type": "markdown",
      "source": [
        "# Lambda Functions and Higher-Order Functions:\n",
        "\n",
        "- Q. What are lambda functions in Python, and when are they typically used?\n",
        "\n"
      ],
      "metadata": {
        "id": "rBX3V5OfuwU5"
      }
    },
    {
      "cell_type": "markdown",
      "source": [
        "- Lambda functions in Python are small, anonymous functions defined using the lambda keyword. They can have any number of arguments but can only have one expression. Lambda functions are typically used when you need a simple function for a short period of time and don't want to define a full-fledged function using the def keyword.\n",
        "- Syntax : lambda arguments: expression\n",
        "- Lambda functions are often used in scenarios where you need to pass a function as an argument to another function, such as in the map(), filter(), and reduce() functions, or when working with functions like sorted() that accept a key argument."
      ],
      "metadata": {
        "id": "MbybSrDahZmn"
      }
    },
    {
      "cell_type": "code",
      "source": [
        "add = lambda x, y: x + y\n",
        "print(add(3, 4))  # Output: 7\n"
      ],
      "metadata": {
        "colab": {
          "base_uri": "https://localhost:8080/"
        },
        "id": "YTJV3GZCh3up",
        "outputId": "1b9b2648-6901-46bf-90ff-bf8f148839de"
      },
      "execution_count": 5,
      "outputs": [
        {
          "output_type": "stream",
          "name": "stdout",
          "text": [
            "7\n"
          ]
        }
      ]
    },
    {
      "cell_type": "markdown",
      "source": [
        "Q.Write a Python program that uses lambda functions to sort a list of tuples based on the second element.\n"
      ],
      "metadata": {
        "id": "dnTEZUnLu2yj"
      }
    },
    {
      "cell_type": "code",
      "source": [
        "data = [('John', 25), ('Alice', 20), ('Bob', 30), ('Diana', 22)]\n",
        "sorted_data = sorted(data, key=lambda x:x[1])\n",
        "print(\"Sorted list of tuples based on the 2nd element\")\n",
        "for item in sorted_data:\n",
        "  print(item)"
      ],
      "metadata": {
        "colab": {
          "base_uri": "https://localhost:8080/"
        },
        "id": "H8zn4ow0h9-r",
        "outputId": "8f75522e-df97-4097-dc42-a126cca9a0b1"
      },
      "execution_count": 6,
      "outputs": [
        {
          "output_type": "stream",
          "name": "stdout",
          "text": [
            "Sorted list of tuples based on the 2nd element\n",
            "('Alice', 20)\n",
            "('Diana', 22)\n",
            "('John', 25)\n",
            "('Bob', 30)\n"
          ]
        }
      ]
    },
    {
      "cell_type": "markdown",
      "source": [
        "Q.Explain the concept of higher-order functions in Python, and provide an example.\n"
      ],
      "metadata": {
        "id": "_FZufKbKu4zb"
      }
    },
    {
      "cell_type": "markdown",
      "source": [
        "- higher-order functions are functions that can take other functions as arguments or return functions as results. This means that functions can be treated as first-class objects, just like any other data type such as integers or strings. Higher-order functions enable powerful and flexible programming paradigms, such as functional programming.\n",
        "- Example: map() function\n",
        "- The map() function in Python is a higher-order function. It takes a function (the first argument) and an iterable (the second argument) as inputs. It applies the function to each element of the iterable and returns an iterator that yields the results."
      ],
      "metadata": {
        "id": "CX3_h_h-iot5"
      }
    },
    {
      "cell_type": "code",
      "source": [
        "# Define a function to double a number\n",
        "def double(x):\n",
        "    return x * 2\n",
        "\n",
        "# List of numbers\n",
        "numbers = [1, 2, 3, 4, 5]\n",
        "\n",
        "# Use map() to double each number in the list\n",
        "doubled_numbers = map(double, numbers)\n",
        "\n",
        "# Convert the iterator to a list and print\n",
        "print(list(doubled_numbers))  # Output: [2, 4, 6, 8, 10]\n"
      ],
      "metadata": {
        "colab": {
          "base_uri": "https://localhost:8080/"
        },
        "id": "oNVVcn--jIVd",
        "outputId": "ecfe98d8-56f6-4320-cd86-908c98079a1a"
      },
      "execution_count": 7,
      "outputs": [
        {
          "output_type": "stream",
          "name": "stdout",
          "text": [
            "[2, 4, 6, 8, 10]\n"
          ]
        }
      ]
    },
    {
      "cell_type": "markdown",
      "source": [
        "Q. Create a Python function that takes a list of numbers and a function as arguments, applying the function to each element in the list."
      ],
      "metadata": {
        "id": "KUFSkkyBu68X"
      }
    },
    {
      "cell_type": "code",
      "source": [
        "def apply_function_to_list(numbers, func):\n",
        "    \"\"\"\n",
        "    Apply the given function to each element in the list of numbers.\n",
        "\n",
        "    Args:\n",
        "        numbers (list): A list of numbers.\n",
        "        func (function): The function to apply to each element in the list.\n",
        "\n",
        "    Returns:\n",
        "        list: A list containing the result of applying the function to each element.\n",
        "    \"\"\"\n",
        "    result = []\n",
        "    for number in numbers:\n",
        "        result.append(func(number))\n",
        "    return result\n",
        "\n",
        "# Define a function to double a number\n",
        "def double(x):\n",
        "    return x * 2\n",
        "\n",
        "# List of numbers\n",
        "numbers = [1, 2, 3, 4, 5]\n",
        "\n",
        "# Apply the double function to each element in the list\n",
        "result = apply_function_to_list(numbers, double)\n",
        "\n",
        "print(\"Original list:\", numbers)\n",
        "print(\"Result after applying the function:\", result)\n"
      ],
      "metadata": {
        "colab": {
          "base_uri": "https://localhost:8080/"
        },
        "id": "m2Ki7Ac5jQd7",
        "outputId": "29606ea8-9bde-4d97-c041-9c97119e6e94"
      },
      "execution_count": 8,
      "outputs": [
        {
          "output_type": "stream",
          "name": "stdout",
          "text": [
            "Original list: [1, 2, 3, 4, 5]\n",
            "Result after applying the function: [2, 4, 6, 8, 10]\n"
          ]
        }
      ]
    },
    {
      "cell_type": "markdown",
      "source": [
        "# Built-in Functions:\n",
        "\n",
        "- Q. Describe the role of built-in functions like `len()`, `max()`, and `min()` in Python.\n"
      ],
      "metadata": {
        "id": "XaQfPMLZu8NH"
      }
    },
    {
      "cell_type": "markdown",
      "source": [
        "len():\n",
        "\n",
        "- len() returns the length (number of items) of an object. It can be applied to sequences such as strings, lists, tuples, and dictionaries.\n",
        "For strings, it returns the number of characters.\n",
        "For lists, tuples, and dictionaries, it returns the number of elements.\n",
        "- Example:"
      ],
      "metadata": {
        "id": "G8UBuc14jwHD"
      }
    },
    {
      "cell_type": "code",
      "source": [
        "my_string = \"Hello\"\n",
        "my_list = [1, 2, 3, 4, 5]\n",
        "\n",
        "print(len(my_string))  # Output: 5\n",
        "print(len(my_list))    # Output: 5\n"
      ],
      "metadata": {
        "colab": {
          "base_uri": "https://localhost:8080/"
        },
        "id": "JZFy1wS2j9jA",
        "outputId": "65ff2f2e-b4b7-47b8-8168-a4a3ac979236"
      },
      "execution_count": 9,
      "outputs": [
        {
          "output_type": "stream",
          "name": "stdout",
          "text": [
            "5\n",
            "5\n"
          ]
        }
      ]
    },
    {
      "cell_type": "markdown",
      "source": [
        "max():\n",
        "\n",
        "- max() returns the largest item in an iterable or the largest of two or more arguments.\n",
        "It can be applied to any iterable object, including lists, tuples, strings, and dictionaries.\n",
        "Example:"
      ],
      "metadata": {
        "id": "5Io1acHhkAH3"
      }
    },
    {
      "cell_type": "code",
      "source": [
        "my_list = [1, 5, 3, 9, 2]\n",
        "\n",
        "print(max(my_list))  # Output: 9\n"
      ],
      "metadata": {
        "colab": {
          "base_uri": "https://localhost:8080/"
        },
        "id": "cNRG_i3ikEFw",
        "outputId": "de7e80e8-230f-4fa9-f448-5075e11c5e3a"
      },
      "execution_count": 10,
      "outputs": [
        {
          "output_type": "stream",
          "name": "stdout",
          "text": [
            "9\n"
          ]
        }
      ]
    },
    {
      "cell_type": "markdown",
      "source": [
        "min():\n",
        "\n",
        "- min() returns the smallest item in an iterable or the smallest of two or more arguments.\n",
        "Like max(), it can be applied to any iterable object.\n",
        "Example:"
      ],
      "metadata": {
        "id": "ywwyCsQMkJQT"
      }
    },
    {
      "cell_type": "code",
      "source": [
        "my_tuple = (10, 5, 8, 3, 12)\n",
        "\n",
        "print(min(my_tuple))  # Output: 3\n"
      ],
      "metadata": {
        "colab": {
          "base_uri": "https://localhost:8080/"
        },
        "id": "ePkIeBMykN7B",
        "outputId": "cda4827e-7f20-42e6-c7f5-da77514b8a44"
      },
      "execution_count": 11,
      "outputs": [
        {
          "output_type": "stream",
          "name": "stdout",
          "text": [
            "3\n"
          ]
        }
      ]
    },
    {
      "cell_type": "markdown",
      "source": [
        "Q.Write a Python program that uses the `map()` function to apply a function to each element of a list.\n"
      ],
      "metadata": {
        "id": "YneXnsnFvGB4"
      }
    },
    {
      "cell_type": "code",
      "source": [
        "# Define a function to double a number\n",
        "def double(x):\n",
        "    return x * 2\n",
        "\n",
        "# List of numbers\n",
        "numbers = [1, 2, 3, 4, 5]\n",
        "\n",
        "# Use map() to apply the double function to each element in the list\n",
        "doubled_numbers = map(double, numbers)\n",
        "\n",
        "# Convert the map object to a list and print\n",
        "print(\"Original list:\", numbers)\n",
        "print(\"List after applying the function:\", list(doubled_numbers))\n"
      ],
      "metadata": {
        "colab": {
          "base_uri": "https://localhost:8080/"
        },
        "id": "Hn1syBnkkUSd",
        "outputId": "071e40cd-2c18-47de-ea29-ff737cb6d175"
      },
      "execution_count": 12,
      "outputs": [
        {
          "output_type": "stream",
          "name": "stdout",
          "text": [
            "Original list: [1, 2, 3, 4, 5]\n",
            "List after applying the function: [2, 4, 6, 8, 10]\n"
          ]
        }
      ]
    },
    {
      "cell_type": "markdown",
      "source": [
        "Q.How does the `filter()` function work in Python, and when would you use it?\n",
        "\n"
      ],
      "metadata": {
        "id": "Q_59vRekvH-K"
      }
    },
    {
      "cell_type": "markdown",
      "source": [
        "- The filter() function in Python is used to filter elements from an iterable (such as a list, tuple, or string) based on a specified function. It takes two arguments: the filtering function and the iterable to filter.\n",
        "- The filter() function applies the specified function to each element of the iterable.\n",
        "- It retains only those elements for which the function returns True.\n",
        "- It returns an iterator containing the filtered elements.\n",
        "- syntax : filter(function, iterable)\n"
      ],
      "metadata": {
        "id": "8_GniKEkknOI"
      }
    },
    {
      "cell_type": "code",
      "source": [
        "# Define a function to check if a number is even\n",
        "def is_even(x):\n",
        "    return x % 2 == 0\n",
        "\n",
        "# List of numbers\n",
        "numbers = [1, 2, 3, 4, 5, 6, 7, 8, 9, 10]\n",
        "\n",
        "# Use filter() to filter even numbers from the list\n",
        "even_numbers = filter(is_even, numbers)\n",
        "\n",
        "# Convert the iterator to a list and print\n",
        "print(\"Original list:\", numbers)\n",
        "print(\"Filtered list of even numbers:\", list(even_numbers))\n"
      ],
      "metadata": {
        "id": "oRS_h21tvY86",
        "colab": {
          "base_uri": "https://localhost:8080/"
        },
        "outputId": "9bb1e9ed-ffb1-411a-dc72-4ec043fa105b"
      },
      "execution_count": 13,
      "outputs": [
        {
          "output_type": "stream",
          "name": "stdout",
          "text": [
            "Original list: [1, 2, 3, 4, 5, 6, 7, 8, 9, 10]\n",
            "Filtered list of even numbers: [2, 4, 6, 8, 10]\n"
          ]
        }
      ]
    },
    {
      "cell_type": "markdown",
      "source": [
        "Q.Create a Python program that uses the `reduce()` function to find the product of all elements in a list."
      ],
      "metadata": {
        "id": "CJsKQM4bvUjD"
      }
    },
    {
      "cell_type": "code",
      "source": [
        "from functools import reduce\n",
        "\n",
        "# Define a function to multiply two numbers\n",
        "def multiply(x, y):\n",
        "    return x * y\n",
        "\n",
        "# List of numbers\n",
        "numbers = [1, 2, 3, 4, 5]\n",
        "\n",
        "# Use reduce() to find the product of all elements in the list\n",
        "product = reduce(multiply, numbers)\n",
        "\n",
        "print(\"List of numbers:\", numbers)\n",
        "print(\"Product of all elements:\", product)\n"
      ],
      "metadata": {
        "id": "ZXR_dfsWvXyd",
        "colab": {
          "base_uri": "https://localhost:8080/"
        },
        "outputId": "125a78c7-d744-4406-b81e-51d1ea109cc7"
      },
      "execution_count": 14,
      "outputs": [
        {
          "output_type": "stream",
          "name": "stdout",
          "text": [
            "List of numbers: [1, 2, 3, 4, 5]\n",
            "Product of all elements: 120\n"
          ]
        }
      ]
    },
    {
      "cell_type": "markdown",
      "source": [],
      "metadata": {
        "id": "0b5QHvTdvWR6"
      }
    },
    {
      "cell_type": "markdown",
      "source": [
        "\n",
        "# Function Documentation and Best Practices:\n",
        "\n",
        "- Q. Explain the purpose of docstrings in Python functions and how to write them.\n"
      ],
      "metadata": {
        "id": "hDOccZwXvKGu"
      }
    },
    {
      "cell_type": "markdown",
      "source": [
        "- Docstrings (documentation strings) in Python are used to provide documentation for functions, modules, classes, or methods. They serve as a convenient way to describe the purpose, usage, and behavior of the code you've written. Docstrings are accessed using the __doc__ attribute of the object.\n",
        "- Single-line Docstrings:\n",
        "- Single-line docstrings are enclosed in triple quotes (''' or \"\"\") and placed on a single line.\n",
        "- They are typically used for simple functions where the description fits on one line.\n"
      ],
      "metadata": {
        "id": "CnxHqU4HlUDz"
      }
    },
    {
      "cell_type": "code",
      "source": [
        "def my_function():\n",
        "    \"\"\"This function does something.\"\"\"\n",
        "    # Function code here\n"
      ],
      "metadata": {
        "id": "mqT9Z1ekltI5"
      },
      "execution_count": null,
      "outputs": []
    },
    {
      "cell_type": "markdown",
      "source": [
        "- Multi-line Docstrings:\n",
        "\n",
        "- Multi-line docstrings are used for more detailed documentation that spans multiple lines.\n",
        "- They are also enclosed in triple quotes (''' or \"\"\") and are written as a multi-line string.\n",
        "- They often include sections such as a summary, parameters, return values, and examples."
      ],
      "metadata": {
        "id": "efyDP_X7ly8o"
      }
    },
    {
      "cell_type": "code",
      "source": [
        "def my_function(parameter):\n",
        "    \"\"\"\n",
        "    This function takes a parameter and does something with it.\n",
        "\n",
        "    Parameters:\n",
        "    parameter (type): Description of the parameter.\n",
        "\n",
        "    Returns:\n",
        "    type: Description of the return value.\n",
        "    \"\"\"\n",
        "    # Function code here\n"
      ],
      "metadata": {
        "id": "7-gNf3qll9g_"
      },
      "execution_count": null,
      "outputs": []
    },
    {
      "cell_type": "markdown",
      "source": [
        "Q.Describe some best practices for naming functions and variables in Python, including naming conventions and guidelines."
      ],
      "metadata": {
        "id": "AEmhv9davPVN"
      }
    },
    {
      "cell_type": "markdown",
      "source": [
        "- Use Descriptive Names:\n",
        "\n",
        "-Choose names that accurately describe the purpose or behavior of the function or variable.\n",
        "- Names should be meaningful and provide clear indication of what the function or variable represents or does.\n",
        "- Avoid single-letter names or cryptic abbreviations that may be confusing to others or your future self.\n",
        "- Use Snake Case:\n",
        "\n",
        "- For naming functions and variables, use snake_case, where words are separated by underscores (_).\n",
        "- Snake case is preferred over camel case in Python code.\n",
        "Follow PEP 8:\n",
        "\n",
        "- PEP 8 is the official style guide for Python code. It provides guidelines for writing readable code.\n",
        "- Follow PEP 8 naming conventions, which include:\n",
        "Function and variable names should be lowercase, with words separated by underscores.\n",
        "- Constants should be all uppercase, with words separated by underscores.\n",
        "Class names should follow the CapWords convention (also known as PascalCase or CamelCase), where each word starts with an uppercase letter and there are no underscores.\n",
        "- Use Verb-Noun Structure for Function Names:\n",
        "\n",
        "- Function names should typically follow a verb-noun structure, indicating what action the function performs on what object or data.\n",
        "For example: calculate_average, process_data, save_file.\n",
        "Be Consistent:\n",
        "\n",
        "- Maintain consistency in naming across your codebase.\n",
        "- Choose a naming convention and stick to it throughout your project.\n",
        "- Avoid Shadowing Built-in Names:\n",
        "\n",
        "- Avoid using names that shadow built-in Python functions, modules, or keywords.\n",
        "This can lead to unexpected behavior and bugs.\n",
        "- Use descriptive names that clearly distinguish your variables and functions from built-in names.\n",
        "Use Singular Nouns for Single Items and Plural Nouns for Collections:\n",
        "\n",
        "- Use singular nouns for variables representing single items or objects.\n",
        "Use plural nouns for variables representing collections or sequences.\n",
        "For example: user vs. users, item vs. items.\n",
        "Use Meaningful Variable Names:\n",
        "\n",
        "- Variable names should describe the data they hold or represent.\n",
        "Avoid generic names like temp, data, or value unless they are truly appropriate for the context."
      ],
      "metadata": {
        "id": "z-U-IFUrmz1m"
      }
    },
    {
      "cell_type": "code",
      "source": [],
      "metadata": {
        "id": "EcPIwnxOuBry"
      },
      "execution_count": null,
      "outputs": []
    }
  ]
}